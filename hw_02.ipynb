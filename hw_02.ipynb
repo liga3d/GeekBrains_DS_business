{
 "cells": [
  {
   "cell_type": "code",
   "execution_count": 1,
   "metadata": {},
   "outputs": [],
   "source": [
    "import warnings\n",
    "warnings.filterwarnings('ignore')"
   ]
  },
  {
   "cell_type": "code",
   "execution_count": 2,
   "metadata": {},
   "outputs": [
    {
     "name": "stderr",
     "output_type": "stream",
     "text": [
      "D:\\Anaconda\\lib\\site-packages\\sklearn\\feature_extraction\\image.py:167: DeprecationWarning: `np.int` is a deprecated alias for the builtin `int`. To silence this warning, use `int` by itself. Doing this will not modify any behavior and is safe. When replacing `np.int`, you may wish to use e.g. `np.int64` or `np.int32` to specify the precision. If you wish to review your current use, check the release note link for additional information.\n",
      "Deprecated in NumPy 1.20; for more details and guidance: https://numpy.org/devdocs/release/1.20.0-notes.html#deprecations\n",
      "  dtype=np.int):\n",
      "D:\\Anaconda\\lib\\site-packages\\sklearn\\linear_model\\least_angle.py:30: DeprecationWarning: `np.float` is a deprecated alias for the builtin `float`. To silence this warning, use `float` by itself. Doing this will not modify any behavior and is safe. If you specifically wanted the numpy scalar type, use `np.float64` here.\n",
      "Deprecated in NumPy 1.20; for more details and guidance: https://numpy.org/devdocs/release/1.20.0-notes.html#deprecations\n",
      "  method='lar', copy_X=True, eps=np.finfo(np.float).eps,\n",
      "D:\\Anaconda\\lib\\site-packages\\sklearn\\linear_model\\least_angle.py:167: DeprecationWarning: `np.float` is a deprecated alias for the builtin `float`. To silence this warning, use `float` by itself. Doing this will not modify any behavior and is safe. If you specifically wanted the numpy scalar type, use `np.float64` here.\n",
      "Deprecated in NumPy 1.20; for more details and guidance: https://numpy.org/devdocs/release/1.20.0-notes.html#deprecations\n",
      "  method='lar', copy_X=True, eps=np.finfo(np.float).eps,\n",
      "D:\\Anaconda\\lib\\site-packages\\sklearn\\linear_model\\least_angle.py:284: DeprecationWarning: `np.float` is a deprecated alias for the builtin `float`. To silence this warning, use `float` by itself. Doing this will not modify any behavior and is safe. If you specifically wanted the numpy scalar type, use `np.float64` here.\n",
      "Deprecated in NumPy 1.20; for more details and guidance: https://numpy.org/devdocs/release/1.20.0-notes.html#deprecations\n",
      "  eps=np.finfo(np.float).eps, copy_Gram=True, verbose=0,\n",
      "D:\\Anaconda\\lib\\site-packages\\sklearn\\linear_model\\least_angle.py:862: DeprecationWarning: `np.float` is a deprecated alias for the builtin `float`. To silence this warning, use `float` by itself. Doing this will not modify any behavior and is safe. If you specifically wanted the numpy scalar type, use `np.float64` here.\n",
      "Deprecated in NumPy 1.20; for more details and guidance: https://numpy.org/devdocs/release/1.20.0-notes.html#deprecations\n",
      "  eps=np.finfo(np.float).eps, copy_X=True, fit_path=True,\n",
      "D:\\Anaconda\\lib\\site-packages\\sklearn\\linear_model\\least_angle.py:1101: DeprecationWarning: `np.float` is a deprecated alias for the builtin `float`. To silence this warning, use `float` by itself. Doing this will not modify any behavior and is safe. If you specifically wanted the numpy scalar type, use `np.float64` here.\n",
      "Deprecated in NumPy 1.20; for more details and guidance: https://numpy.org/devdocs/release/1.20.0-notes.html#deprecations\n",
      "  eps=np.finfo(np.float).eps, copy_X=True, fit_path=True,\n",
      "D:\\Anaconda\\lib\\site-packages\\sklearn\\linear_model\\least_angle.py:1127: DeprecationWarning: `np.float` is a deprecated alias for the builtin `float`. To silence this warning, use `float` by itself. Doing this will not modify any behavior and is safe. If you specifically wanted the numpy scalar type, use `np.float64` here.\n",
      "Deprecated in NumPy 1.20; for more details and guidance: https://numpy.org/devdocs/release/1.20.0-notes.html#deprecations\n",
      "  eps=np.finfo(np.float).eps, positive=False):\n",
      "D:\\Anaconda\\lib\\site-packages\\sklearn\\linear_model\\least_angle.py:1362: DeprecationWarning: `np.float` is a deprecated alias for the builtin `float`. To silence this warning, use `float` by itself. Doing this will not modify any behavior and is safe. If you specifically wanted the numpy scalar type, use `np.float64` here.\n",
      "Deprecated in NumPy 1.20; for more details and guidance: https://numpy.org/devdocs/release/1.20.0-notes.html#deprecations\n",
      "  max_n_alphas=1000, n_jobs=None, eps=np.finfo(np.float).eps,\n",
      "D:\\Anaconda\\lib\\site-packages\\sklearn\\linear_model\\least_angle.py:1602: DeprecationWarning: `np.float` is a deprecated alias for the builtin `float`. To silence this warning, use `float` by itself. Doing this will not modify any behavior and is safe. If you specifically wanted the numpy scalar type, use `np.float64` here.\n",
      "Deprecated in NumPy 1.20; for more details and guidance: https://numpy.org/devdocs/release/1.20.0-notes.html#deprecations\n",
      "  max_n_alphas=1000, n_jobs=None, eps=np.finfo(np.float).eps,\n",
      "D:\\Anaconda\\lib\\site-packages\\sklearn\\linear_model\\least_angle.py:1738: DeprecationWarning: `np.float` is a deprecated alias for the builtin `float`. To silence this warning, use `float` by itself. Doing this will not modify any behavior and is safe. If you specifically wanted the numpy scalar type, use `np.float64` here.\n",
      "Deprecated in NumPy 1.20; for more details and guidance: https://numpy.org/devdocs/release/1.20.0-notes.html#deprecations\n",
      "  eps=np.finfo(np.float).eps, copy_X=True, positive=False):\n"
     ]
    }
   ],
   "source": [
    "import pandas as pd\n",
    "import numpy as np\n",
    "import re\n",
    "import pymorphy2\n",
    "\n",
    "from gensim.corpora.dictionary import Dictionary\n",
    "from nltk.corpus import stopwords\n",
    "from razdel import tokenize"
   ]
  },
  {
   "cell_type": "code",
   "execution_count": 3,
   "metadata": {},
   "outputs": [
    {
     "name": "stdout",
     "output_type": "stream",
     "text": [
      "(27000, 2)\n"
     ]
    },
    {
     "data": {
      "text/html": [
       "<div>\n",
       "<style scoped>\n",
       "    .dataframe tbody tr th:only-of-type {\n",
       "        vertical-align: middle;\n",
       "    }\n",
       "\n",
       "    .dataframe tbody tr th {\n",
       "        vertical-align: top;\n",
       "    }\n",
       "\n",
       "    .dataframe thead th {\n",
       "        text-align: right;\n",
       "    }\n",
       "</style>\n",
       "<table border=\"1\" class=\"dataframe\">\n",
       "  <thead>\n",
       "    <tr style=\"text-align: right;\">\n",
       "      <th></th>\n",
       "      <th>doc_id</th>\n",
       "      <th>title</th>\n",
       "    </tr>\n",
       "  </thead>\n",
       "  <tbody>\n",
       "    <tr>\n",
       "      <th>0</th>\n",
       "      <td>6</td>\n",
       "      <td>Заместитель председателяnправительства РФnСерг...</td>\n",
       "    </tr>\n",
       "    <tr>\n",
       "      <th>1</th>\n",
       "      <td>4896</td>\n",
       "      <td>Матч 1/16 финала Кубка России по футболу был п...</td>\n",
       "    </tr>\n",
       "    <tr>\n",
       "      <th>2</th>\n",
       "      <td>4897</td>\n",
       "      <td>Форвард «Авангарда» Томаш Заборский прокоммент...</td>\n",
       "    </tr>\n",
       "  </tbody>\n",
       "</table>\n",
       "</div>"
      ],
      "text/plain": [
       "   doc_id                                              title\n",
       "0       6  Заместитель председателяnправительства РФnСерг...\n",
       "1    4896  Матч 1/16 финала Кубка России по футболу был п...\n",
       "2    4897  Форвард «Авангарда» Томаш Заборский прокоммент..."
      ]
     },
     "execution_count": 3,
     "metadata": {},
     "output_type": "execute_result"
    }
   ],
   "source": [
    "news = pd.read_csv(\"articles.csv\")\n",
    "print(news.shape)\n",
    "news.head(3)"
   ]
  },
  {
   "cell_type": "code",
   "execution_count": 4,
   "metadata": {},
   "outputs": [
    {
     "data": {
      "text/html": [
       "<div>\n",
       "<style scoped>\n",
       "    .dataframe tbody tr th:only-of-type {\n",
       "        vertical-align: middle;\n",
       "    }\n",
       "\n",
       "    .dataframe tbody tr th {\n",
       "        vertical-align: top;\n",
       "    }\n",
       "\n",
       "    .dataframe thead th {\n",
       "        text-align: right;\n",
       "    }\n",
       "</style>\n",
       "<table border=\"1\" class=\"dataframe\">\n",
       "  <thead>\n",
       "    <tr style=\"text-align: right;\">\n",
       "      <th></th>\n",
       "      <th>uid</th>\n",
       "      <th>articles</th>\n",
       "    </tr>\n",
       "  </thead>\n",
       "  <tbody>\n",
       "    <tr>\n",
       "      <th>0</th>\n",
       "      <td>u105138</td>\n",
       "      <td>[293672, 293328, 293001, 293622, 293126, 1852]</td>\n",
       "    </tr>\n",
       "    <tr>\n",
       "      <th>1</th>\n",
       "      <td>u108690</td>\n",
       "      <td>[3405, 1739, 2972, 1158, 1599, 322665]</td>\n",
       "    </tr>\n",
       "    <tr>\n",
       "      <th>2</th>\n",
       "      <td>u108339</td>\n",
       "      <td>[1845, 2009, 2356, 1424, 2939, 323389]</td>\n",
       "    </tr>\n",
       "  </tbody>\n",
       "</table>\n",
       "</div>"
      ],
      "text/plain": [
       "       uid                                        articles\n",
       "0  u105138  [293672, 293328, 293001, 293622, 293126, 1852]\n",
       "1  u108690          [3405, 1739, 2972, 1158, 1599, 322665]\n",
       "2  u108339          [1845, 2009, 2356, 1424, 2939, 323389]"
      ]
     },
     "execution_count": 4,
     "metadata": {},
     "output_type": "execute_result"
    }
   ],
   "source": [
    "users = pd.read_csv(\"users_articles.csv\")\n",
    "users.head(3)"
   ]
  },
  {
   "cell_type": "code",
   "execution_count": 5,
   "metadata": {},
   "outputs": [
    {
     "name": "stderr",
     "output_type": "stream",
     "text": [
      "[nltk_data] Downloading package stopwords to\n",
      "[nltk_data]     C:\\Users\\Игорь\\AppData\\Roaming\\nltk_data...\n",
      "[nltk_data]   Package stopwords is already up-to-date!\n"
     ]
    },
    {
     "data": {
      "text/plain": [
       "True"
      ]
     },
     "execution_count": 5,
     "metadata": {},
     "output_type": "execute_result"
    }
   ],
   "source": [
    "import nltk\n",
    "nltk.download('stopwords')"
   ]
  },
  {
   "cell_type": "code",
   "execution_count": 6,
   "metadata": {},
   "outputs": [],
   "source": [
    "stopword_ru = stopwords.words('russian')\n",
    "\n",
    "morph = pymorphy2.MorphAnalyzer()"
   ]
  },
  {
   "cell_type": "code",
   "execution_count": 7,
   "metadata": {},
   "outputs": [
    {
     "data": {
      "text/plain": [
       "151"
      ]
     },
     "execution_count": 7,
     "metadata": {},
     "output_type": "execute_result"
    }
   ],
   "source": [
    "len(stopword_ru)"
   ]
  },
  {
   "cell_type": "code",
   "execution_count": 8,
   "metadata": {},
   "outputs": [
    {
     "data": {
      "text/plain": [
       "776"
      ]
     },
     "execution_count": 8,
     "metadata": {},
     "output_type": "execute_result"
    }
   ],
   "source": [
    "with open('stopwords.txt', encoding='utf-8') as f:\n",
    "    additional_stopwords = [w.strip() for w in f.readlines() if w]\n",
    "stopword_ru += additional_stopwords\n",
    "len(stopword_ru)"
   ]
  },
  {
   "cell_type": "code",
   "execution_count": 9,
   "metadata": {},
   "outputs": [
    {
     "data": {
      "text/plain": [
       "['им', 'более', 'всегда', 'конечно', 'всю', 'между', 'год', 'и', 'в', 'во']"
      ]
     },
     "execution_count": 9,
     "metadata": {},
     "output_type": "execute_result"
    }
   ],
   "source": [
    "stopword_ru[145:155]"
   ]
  },
  {
   "cell_type": "code",
   "execution_count": 10,
   "metadata": {},
   "outputs": [],
   "source": [
    "def clean_text(text):\n",
    "    '''\n",
    "    очистка текста\n",
    "    \n",
    "    на выходе очищеный текст\n",
    "    \n",
    "    '''\n",
    "    if not isinstance(text, str):\n",
    "        text = str(text)\n",
    "    \n",
    "    text = text.lower()\n",
    "    text = text.strip('\\n').strip('\\r').strip('\\t')\n",
    "    text = re.sub(\"-\\s\\r\\n\\|-\\s\\r\\n|\\r\\n\", '', str(text))\n",
    "\n",
    "    text = re.sub(\"[0-9]|[-—.,:;_%©«»?*!@#№$^•·&()]|[+=]|[[]|[]]|[/]|\", '', text)\n",
    "    text = re.sub(r\"\\r\\n\\t|\\n|\\\\s|\\r\\t|\\\\n\", ' ', text)\n",
    "    text = re.sub(r'[\\xad]|[\\s+]', ' ', text.strip())\n",
    "    \n",
    "    #tokens = list(tokenize(text))\n",
    "    #words = [_.text for _ in tokens]\n",
    "    #words = [w for w in words if w not in stopword_ru]\n",
    "    \n",
    "    #return \" \".join(words)\n",
    "    return text\n",
    "\n",
    "cache = {}\n",
    "\n",
    "def lemmatization(text):\n",
    "    '''\n",
    "    лемматизация\n",
    "        [0] если зашел тип не `str` делаем его `str`\n",
    "        [1] токенизация предложения через razdel\n",
    "        [2] проверка есть ли в начале слова '-'\n",
    "        [3] проверка токена с одного символа\n",
    "        [4] проверка есть ли данное слово в кэше\n",
    "        [5] лемматизация слова\n",
    "        [6] проверка на стоп-слова\n",
    "\n",
    "    на выходе лист отлемматизированых токенов\n",
    "    '''\n",
    "\n",
    "    # [0]\n",
    "    if not isinstance(text, str):\n",
    "        text = str(text)\n",
    "    \n",
    "    # [1]\n",
    "    tokens = list(tokenize(text))\n",
    "    words = [_.text for _ in tokens]\n",
    "\n",
    "    words_lem = []\n",
    "    for w in words:\n",
    "        if w[0] == '-': # [2]\n",
    "            w = w[1:]\n",
    "        if len(w)>1: # [3]\n",
    "            if w in cache: # [4]\n",
    "                words_lem.append(cache[w])\n",
    "            else: # [5]\n",
    "                temp_cache = cache[w] = morph.parse(w)[0].normal_form\n",
    "                words_lem.append(temp_cache)\n",
    "    \n",
    "    words_lem_without_stopwords=[i for i in words_lem if not i in stopword_ru] # [6]\n",
    "    \n",
    "    return words_lem_without_stopwords"
   ]
  },
  {
   "cell_type": "code",
   "execution_count": 11,
   "metadata": {},
   "outputs": [],
   "source": [
    "news['title'] = news['title'].apply(lambda x: clean_text(x), 1)"
   ]
  },
  {
   "cell_type": "code",
   "execution_count": 12,
   "metadata": {},
   "outputs": [],
   "source": [
    "news['title'] = news['title'].apply(lambda x: lemmatization(x), 1)"
   ]
  },
  {
   "cell_type": "code",
   "execution_count": 13,
   "metadata": {},
   "outputs": [
    {
     "data": {
      "text/html": [
       "<div>\n",
       "<style scoped>\n",
       "    .dataframe tbody tr th:only-of-type {\n",
       "        vertical-align: middle;\n",
       "    }\n",
       "\n",
       "    .dataframe tbody tr th {\n",
       "        vertical-align: top;\n",
       "    }\n",
       "\n",
       "    .dataframe thead th {\n",
       "        text-align: right;\n",
       "    }\n",
       "</style>\n",
       "<table border=\"1\" class=\"dataframe\">\n",
       "  <thead>\n",
       "    <tr style=\"text-align: right;\">\n",
       "      <th></th>\n",
       "      <th>doc_id</th>\n",
       "      <th>title</th>\n",
       "    </tr>\n",
       "  </thead>\n",
       "  <tbody>\n",
       "    <tr>\n",
       "      <th>0</th>\n",
       "      <td>6</td>\n",
       "      <td>[заместитель, председатель, правительство, рф,...</td>\n",
       "    </tr>\n",
       "    <tr>\n",
       "      <th>1</th>\n",
       "      <td>4896</td>\n",
       "      <td>[матч, финал, кубок, россия, футбол, приостано...</td>\n",
       "    </tr>\n",
       "    <tr>\n",
       "      <th>2</th>\n",
       "      <td>4897</td>\n",
       "      <td>[форвард, авангард, томаш, заборский, прокомме...</td>\n",
       "    </tr>\n",
       "    <tr>\n",
       "      <th>3</th>\n",
       "      <td>4898</td>\n",
       "      <td>[главный, тренер, кубань, юрий, красножанин, п...</td>\n",
       "    </tr>\n",
       "    <tr>\n",
       "      <th>4</th>\n",
       "      <td>4899</td>\n",
       "      <td>[решение, попечительский, совет, владивостокск...</td>\n",
       "    </tr>\n",
       "  </tbody>\n",
       "</table>\n",
       "</div>"
      ],
      "text/plain": [
       "   doc_id                                              title\n",
       "0       6  [заместитель, председатель, правительство, рф,...\n",
       "1    4896  [матч, финал, кубок, россия, футбол, приостано...\n",
       "2    4897  [форвард, авангард, томаш, заборский, прокомме...\n",
       "3    4898  [главный, тренер, кубань, юрий, красножанин, п...\n",
       "4    4899  [решение, попечительский, совет, владивостокск..."
      ]
     },
     "execution_count": 13,
     "metadata": {},
     "output_type": "execute_result"
    }
   ],
   "source": [
    "news.head()"
   ]
  },
  {
   "cell_type": "code",
   "execution_count": 14,
   "metadata": {},
   "outputs": [],
   "source": [
    "#сформируем список наших текстов, разбив еще и на пробелы\n",
    "texts = [t for t in news['title'].values]\n",
    "\n",
    "# Create a corpus from a list of texts\n",
    "common_dictionary = Dictionary(texts)"
   ]
  },
  {
   "cell_type": "code",
   "execution_count": 15,
   "metadata": {},
   "outputs": [
    {
     "data": {
      "text/plain": [
       "141166"
      ]
     },
     "execution_count": 15,
     "metadata": {},
     "output_type": "execute_result"
    }
   ],
   "source": [
    "len(common_dictionary)"
   ]
  },
  {
   "cell_type": "code",
   "execution_count": 16,
   "metadata": {},
   "outputs": [
    {
     "data": {
      "text/plain": [
       "38456"
      ]
     },
     "execution_count": 16,
     "metadata": {},
     "output_type": "execute_result"
    }
   ],
   "source": [
    "common_dictionary.filter_extremes(no_above=0.2)\n",
    "len(common_dictionary)"
   ]
  },
  {
   "cell_type": "code",
   "execution_count": 17,
   "metadata": {},
   "outputs": [],
   "source": [
    "common_corpus = [common_dictionary.doc2bow(text) for text in texts]"
   ]
  },
  {
   "cell_type": "code",
   "execution_count": 18,
   "metadata": {},
   "outputs": [],
   "source": [
    "NUM_TOPICS = 18"
   ]
  },
  {
   "cell_type": "code",
   "execution_count": 19,
   "metadata": {},
   "outputs": [],
   "source": [
    "from gensim.models import LdaMulticore\n",
    "lda = LdaMulticore(common_corpus, num_topics=NUM_TOPICS, id2word=common_dictionary, random_state=51, passes=24)"
   ]
  },
  {
   "cell_type": "code",
   "execution_count": 20,
   "metadata": {},
   "outputs": [
    {
     "name": "stdout",
     "output_type": "stream",
     "text": [
      "['российский', 'дзюдоист', 'ренат', 'саид', 'выиграть', 'бронза', 'универсиада', 'весовой', 'категория', 'свыше', 'кг', 'поединок', 'третий', 'место', 'россиянин', 'одолеть', 'киргизстан', 'юрий', 'краковецкий', 'второй', 'бронза', 'категория', 'достаться', 'поляк', 'масьяж', 'сарнацки', 'сильный', 'эстонец', 'юхан', 'меттис', 'золотой', 'призёр', 'соревнование', 'южный', 'корея', 'гуам', 'финальный', 'поединок', 'побороть', 'венгр', 'барн', 'бор', 'новость', 'материал', 'статистика', 'ознакомиться', 'страница', 'универсиада']\n"
     ]
    },
    {
     "data": {
      "text/plain": [
       "[(3, 0.14312372), (8, 0.3444376), (12, 0.10357153), (15, 0.38926068)]"
      ]
     },
     "execution_count": 20,
     "metadata": {},
     "output_type": "execute_result"
    }
   ],
   "source": [
    "# Create a new corpus, made of previously unseen documents.\n",
    "other_texts = [t for t in news['title'].iloc[1000:1005]]\n",
    "other_corpus = [common_dictionary.doc2bow(text) for text in other_texts]\n",
    "\n",
    "unseen_doc = other_corpus[2]\n",
    "print(other_texts[2])\n",
    "lda[unseen_doc] "
   ]
  },
  {
   "cell_type": "code",
   "execution_count": 21,
   "metadata": {},
   "outputs": [
    {
     "name": "stdout",
     "output_type": "stream",
     "text": [
      "topic_0: пожар произойти поезд взрыв ребёнок дом местный пострадать здание погибнуть район дорога сотрудник житель вагон\n",
      "topic_1: дом ребёнок произойти мужчина летний больница женщина тело область пострадать смерть врач погибнуть сотрудник девушка\n",
      "topic_2: украина украинский газ киев белоруссия порошенко поставка газпром млрд продукция млн уголь цена церковь тонна\n",
      "topic_3: военный сила сирия оборона армия оружие боевой войско американский сирийский операция корабль вооружённый территория действие\n",
      "topic_4: учёный земля планета обнаружить найти исследование звезда солнечный луна древний исследователь астероид объект солнце назад\n",
      "topic_5: самолёт полёт пассажир пилот экипаж авиакомпания система воздушный борт двигатель boeing лайнер катастрофа машина аэропорт\n",
      "topic_6: температура °с ветер погода луна миссия марс мс ночью воздух мм снег атмосферный рт дождь\n",
      "topic_7: теракт власть задержать взрыв произойти террорист погибнуть аэропорт nnn террористический журналист атака рейс безопасность пострадать\n",
      "topic_8: турист млн фильм россиянин тыс фестиваль праздник туризм туристический курорт сайт театр крым туроператор отдых\n",
      "topic_9: ребёнок семья пенсия женщина пенсионный преступление тыс право рубль родитель социальный убийство пенсионер гражданин наказание\n",
      "topic_10: исследование учёный исследователь мозг женщина заболевание риск случай ребёнок жизнь рак пациент развитие болезнь выяснить\n",
      "topic_11: проект наука научный очень программа институт развитие образование система технология ран школа фонд учёный университет\n",
      "topic_12: советский война русский армия ссср власть войско военный красный народ ленин событие генерал солдат сталин\n",
      "topic_13: банк рост рубль рынок млрд цена руб эксперт нефть уровень экономика млн доход отмечать составить\n",
      "topic_14: ракета космический корабль спутник запуск роскосмос аппарат станция орбита союз космос полёт мкс космонавт блок\n",
      "topic_15: трамп санкция американский газ проект европа путин китай ес соглашение против европейский поток северный поставка\n",
      "topic_16: млн рубль закон документ уголовный иск дом бывший депутат право рф средство госдума владимир лицо\n",
      "topic_17: крым гражданин музей территория центр собор власть здание информация россиянин санктпетербург сотрудник объект рф виза\n"
     ]
    }
   ],
   "source": [
    "x=lda.show_topics(num_words=15, num_topics=NUM_TOPICS,formatted=False)# num_words=15,formatted=False)\n",
    "topics_words = [(tp[0], [wd[0] for wd in tp[1]]) for tp in x]\n",
    "\n",
    "#Below Code Prints Only Words \n",
    "for topic, words in topics_words:\n",
    "    print(\"topic_{}: \".format(topic)+\" \".join(words))"
   ]
  },
  {
   "cell_type": "code",
   "execution_count": 22,
   "metadata": {},
   "outputs": [],
   "source": [
    "def get_lda_vector(text):\n",
    "    unseen_doc = common_dictionary.doc2bow(text)\n",
    "    lda_tuple = lda[unseen_doc]\n",
    "    not_null_topics = dict(zip([i[0] for i in lda_tuple], [i[1] for i in lda_tuple]))\n",
    "\n",
    "    output_vector = []\n",
    "    for i in range(NUM_TOPICS):\n",
    "        if i not in not_null_topics:\n",
    "            output_vector.append(0)\n",
    "        else:\n",
    "            output_vector.append(not_null_topics[i])\n",
    "    return np.array(output_vector)"
   ]
  },
  {
   "cell_type": "code",
   "execution_count": 23,
   "metadata": {},
   "outputs": [
    {
     "data": {
      "text/html": [
       "<div>\n",
       "<style scoped>\n",
       "    .dataframe tbody tr th:only-of-type {\n",
       "        vertical-align: middle;\n",
       "    }\n",
       "\n",
       "    .dataframe tbody tr th {\n",
       "        vertical-align: top;\n",
       "    }\n",
       "\n",
       "    .dataframe thead th {\n",
       "        text-align: right;\n",
       "    }\n",
       "</style>\n",
       "<table border=\"1\" class=\"dataframe\">\n",
       "  <thead>\n",
       "    <tr style=\"text-align: right;\">\n",
       "      <th></th>\n",
       "      <th>doc_id</th>\n",
       "      <th>topic_0</th>\n",
       "      <th>topic_1</th>\n",
       "      <th>topic_2</th>\n",
       "      <th>topic_3</th>\n",
       "      <th>topic_4</th>\n",
       "      <th>topic_5</th>\n",
       "      <th>topic_6</th>\n",
       "      <th>topic_7</th>\n",
       "      <th>topic_8</th>\n",
       "      <th>topic_9</th>\n",
       "      <th>topic_10</th>\n",
       "      <th>topic_11</th>\n",
       "      <th>topic_12</th>\n",
       "      <th>topic_13</th>\n",
       "      <th>topic_14</th>\n",
       "      <th>topic_15</th>\n",
       "      <th>topic_16</th>\n",
       "      <th>topic_17</th>\n",
       "    </tr>\n",
       "  </thead>\n",
       "  <tbody>\n",
       "    <tr>\n",
       "      <th>0</th>\n",
       "      <td>6</td>\n",
       "      <td>0.000000</td>\n",
       "      <td>0.000000</td>\n",
       "      <td>0.0</td>\n",
       "      <td>0.0</td>\n",
       "      <td>0.0</td>\n",
       "      <td>0.0</td>\n",
       "      <td>0.0</td>\n",
       "      <td>0.013202</td>\n",
       "      <td>0.000000</td>\n",
       "      <td>0.0</td>\n",
       "      <td>0.000000</td>\n",
       "      <td>0.000000</td>\n",
       "      <td>0.017577</td>\n",
       "      <td>0.058299</td>\n",
       "      <td>0.0</td>\n",
       "      <td>0.305585</td>\n",
       "      <td>0.527683</td>\n",
       "      <td>0.071337</td>\n",
       "    </tr>\n",
       "    <tr>\n",
       "      <th>1</th>\n",
       "      <td>4896</td>\n",
       "      <td>0.274051</td>\n",
       "      <td>0.102997</td>\n",
       "      <td>0.0</td>\n",
       "      <td>0.0</td>\n",
       "      <td>0.0</td>\n",
       "      <td>0.0</td>\n",
       "      <td>0.0</td>\n",
       "      <td>0.106881</td>\n",
       "      <td>0.000000</td>\n",
       "      <td>0.0</td>\n",
       "      <td>0.000000</td>\n",
       "      <td>0.000000</td>\n",
       "      <td>0.000000</td>\n",
       "      <td>0.000000</td>\n",
       "      <td>0.0</td>\n",
       "      <td>0.422161</td>\n",
       "      <td>0.073168</td>\n",
       "      <td>0.000000</td>\n",
       "    </tr>\n",
       "    <tr>\n",
       "      <th>2</th>\n",
       "      <td>4897</td>\n",
       "      <td>0.081991</td>\n",
       "      <td>0.000000</td>\n",
       "      <td>0.0</td>\n",
       "      <td>0.0</td>\n",
       "      <td>0.0</td>\n",
       "      <td>0.0</td>\n",
       "      <td>0.0</td>\n",
       "      <td>0.000000</td>\n",
       "      <td>0.112727</td>\n",
       "      <td>0.0</td>\n",
       "      <td>0.000000</td>\n",
       "      <td>0.000000</td>\n",
       "      <td>0.000000</td>\n",
       "      <td>0.000000</td>\n",
       "      <td>0.0</td>\n",
       "      <td>0.782705</td>\n",
       "      <td>0.000000</td>\n",
       "      <td>0.000000</td>\n",
       "    </tr>\n",
       "    <tr>\n",
       "      <th>3</th>\n",
       "      <td>4898</td>\n",
       "      <td>0.000000</td>\n",
       "      <td>0.000000</td>\n",
       "      <td>0.0</td>\n",
       "      <td>0.0</td>\n",
       "      <td>0.0</td>\n",
       "      <td>0.0</td>\n",
       "      <td>0.0</td>\n",
       "      <td>0.000000</td>\n",
       "      <td>0.072408</td>\n",
       "      <td>0.0</td>\n",
       "      <td>0.064408</td>\n",
       "      <td>0.088572</td>\n",
       "      <td>0.096353</td>\n",
       "      <td>0.000000</td>\n",
       "      <td>0.0</td>\n",
       "      <td>0.668446</td>\n",
       "      <td>0.000000</td>\n",
       "      <td>0.000000</td>\n",
       "    </tr>\n",
       "    <tr>\n",
       "      <th>4</th>\n",
       "      <td>4899</td>\n",
       "      <td>0.000000</td>\n",
       "      <td>0.000000</td>\n",
       "      <td>0.0</td>\n",
       "      <td>0.0</td>\n",
       "      <td>0.0</td>\n",
       "      <td>0.0</td>\n",
       "      <td>0.0</td>\n",
       "      <td>0.000000</td>\n",
       "      <td>0.000000</td>\n",
       "      <td>0.0</td>\n",
       "      <td>0.000000</td>\n",
       "      <td>0.085480</td>\n",
       "      <td>0.000000</td>\n",
       "      <td>0.000000</td>\n",
       "      <td>0.0</td>\n",
       "      <td>0.224034</td>\n",
       "      <td>0.665874</td>\n",
       "      <td>0.000000</td>\n",
       "    </tr>\n",
       "  </tbody>\n",
       "</table>\n",
       "</div>"
      ],
      "text/plain": [
       "   doc_id   topic_0   topic_1  topic_2  topic_3  topic_4  topic_5  topic_6  \\\n",
       "0       6  0.000000  0.000000      0.0      0.0      0.0      0.0      0.0   \n",
       "1    4896  0.274051  0.102997      0.0      0.0      0.0      0.0      0.0   \n",
       "2    4897  0.081991  0.000000      0.0      0.0      0.0      0.0      0.0   \n",
       "3    4898  0.000000  0.000000      0.0      0.0      0.0      0.0      0.0   \n",
       "4    4899  0.000000  0.000000      0.0      0.0      0.0      0.0      0.0   \n",
       "\n",
       "    topic_7   topic_8  topic_9  topic_10  topic_11  topic_12  topic_13  \\\n",
       "0  0.013202  0.000000      0.0  0.000000  0.000000  0.017577  0.058299   \n",
       "1  0.106881  0.000000      0.0  0.000000  0.000000  0.000000  0.000000   \n",
       "2  0.000000  0.112727      0.0  0.000000  0.000000  0.000000  0.000000   \n",
       "3  0.000000  0.072408      0.0  0.064408  0.088572  0.096353  0.000000   \n",
       "4  0.000000  0.000000      0.0  0.000000  0.085480  0.000000  0.000000   \n",
       "\n",
       "   topic_14  topic_15  topic_16  topic_17  \n",
       "0       0.0  0.305585  0.527683  0.071337  \n",
       "1       0.0  0.422161  0.073168  0.000000  \n",
       "2       0.0  0.782705  0.000000  0.000000  \n",
       "3       0.0  0.668446  0.000000  0.000000  \n",
       "4       0.0  0.224034  0.665874  0.000000  "
      ]
     },
     "execution_count": 23,
     "metadata": {},
     "output_type": "execute_result"
    }
   ],
   "source": [
    "topic_matrix = pd.DataFrame([get_lda_vector(text) for text in news['title'].values])\n",
    "topic_matrix.columns = ['topic_{}'.format(i) for i in range(NUM_TOPICS)]\n",
    "topic_matrix['doc_id'] = news['doc_id'].values\n",
    "topic_matrix = topic_matrix[['doc_id']+['topic_{}'.format(i) for i in range(NUM_TOPICS)]]\n",
    "topic_matrix.head(5)"
   ]
  },
  {
   "cell_type": "code",
   "execution_count": 24,
   "metadata": {},
   "outputs": [
    {
     "data": {
      "text/html": [
       "<div>\n",
       "<style scoped>\n",
       "    .dataframe tbody tr th:only-of-type {\n",
       "        vertical-align: middle;\n",
       "    }\n",
       "\n",
       "    .dataframe tbody tr th {\n",
       "        vertical-align: top;\n",
       "    }\n",
       "\n",
       "    .dataframe thead th {\n",
       "        text-align: right;\n",
       "    }\n",
       "</style>\n",
       "<table border=\"1\" class=\"dataframe\">\n",
       "  <thead>\n",
       "    <tr style=\"text-align: right;\">\n",
       "      <th></th>\n",
       "      <th>uid</th>\n",
       "      <th>articles</th>\n",
       "    </tr>\n",
       "  </thead>\n",
       "  <tbody>\n",
       "    <tr>\n",
       "      <th>0</th>\n",
       "      <td>u105138</td>\n",
       "      <td>[293672, 293328, 293001, 293622, 293126, 1852]</td>\n",
       "    </tr>\n",
       "    <tr>\n",
       "      <th>1</th>\n",
       "      <td>u108690</td>\n",
       "      <td>[3405, 1739, 2972, 1158, 1599, 322665]</td>\n",
       "    </tr>\n",
       "    <tr>\n",
       "      <th>2</th>\n",
       "      <td>u108339</td>\n",
       "      <td>[1845, 2009, 2356, 1424, 2939, 323389]</td>\n",
       "    </tr>\n",
       "  </tbody>\n",
       "</table>\n",
       "</div>"
      ],
      "text/plain": [
       "       uid                                        articles\n",
       "0  u105138  [293672, 293328, 293001, 293622, 293126, 1852]\n",
       "1  u108690          [3405, 1739, 2972, 1158, 1599, 322665]\n",
       "2  u108339          [1845, 2009, 2356, 1424, 2939, 323389]"
      ]
     },
     "execution_count": 24,
     "metadata": {},
     "output_type": "execute_result"
    }
   ],
   "source": [
    "users.head(3)"
   ]
  },
  {
   "cell_type": "code",
   "execution_count": 25,
   "metadata": {},
   "outputs": [],
   "source": [
    "class MyTfidf:\n",
    "    def __init__(self):\n",
    "        self.idf = {}\n",
    "        \n",
    "    def fit(self, users):\n",
    "        #создаем словарь и считаем частоты по статьям\n",
    "        for user in users:\n",
    "            for article in user:\n",
    "                if article in self.idf.keys():\n",
    "                    self.idf[article] += 1\n",
    "                else:\n",
    "                    self.idf[article] = 1\n",
    "        #общее количество статей\n",
    "        counts = np.sum([i for i in self.idf.values()])\n",
    "        \n",
    "        #считаем сам IDF\n",
    "        for key in self.idf.keys():\n",
    "            self.idf[key] = np.log(counts / self.idf[key])\n",
    "        \n",
    "        #и нормализуем его на интервал от 1 до 2\n",
    "        _tmp = np.array([i for i in self.idf.values()])\n",
    "        _min = np.min(_tmp)\n",
    "        _max_min = np.max(_tmp) - np.min(_tmp)\n",
    "        \n",
    "        for key in self.idf.keys():\n",
    "            self.idf[key] = (self.idf[key] - _min) / _max_min + 1\n",
    "            \n",
    "    def idf_num(self, article):\n",
    "        return self.idf[article]\n",
    "            "
   ]
  },
  {
   "cell_type": "code",
   "execution_count": 26,
   "metadata": {},
   "outputs": [
    {
     "data": {
      "text/plain": [
       "1.5106989157635478"
      ]
     },
     "execution_count": 26,
     "metadata": {},
     "output_type": "execute_result"
    }
   ],
   "source": [
    "idf = MyTfidf()\n",
    "idf.fit([eval(i) for i in users['articles']])\n",
    "\n",
    "idf.idf_num(995)"
   ]
  },
  {
   "cell_type": "code",
   "execution_count": 27,
   "metadata": {},
   "outputs": [],
   "source": [
    "doc_dict = dict(zip(topic_matrix['doc_id'].values, topic_matrix[['topic_{}'.format(i) for i in range(NUM_TOPICS)]].values))"
   ]
  },
  {
   "cell_type": "code",
   "execution_count": 28,
   "metadata": {},
   "outputs": [
    {
     "data": {
      "text/plain": [
       "array([0.06934681, 0.        , 0.        , 0.        , 0.        ,\n",
       "       0.        , 0.        , 0.23066662, 0.43560141, 0.25505954,\n",
       "       0.        , 0.        , 0.        , 0.        , 0.        ,\n",
       "       0.        , 0.        , 0.        ])"
      ]
     },
     "execution_count": 28,
     "metadata": {},
     "output_type": "execute_result"
    }
   ],
   "source": [
    "doc_dict[293622]"
   ]
  },
  {
   "cell_type": "code",
   "execution_count": 29,
   "metadata": {},
   "outputs": [],
   "source": [
    "def get_user_embedding(user_articles_list):\n",
    "    user_articles_list = eval(user_articles_list)\n",
    "    user_vector = np.array([doc_dict[doc_id] for doc_id in user_articles_list])\n",
    "    user_vector = np.mean(user_vector, 0)\n",
    "    return user_vector"
   ]
  },
  {
   "cell_type": "code",
   "execution_count": 30,
   "metadata": {},
   "outputs": [],
   "source": [
    "def get_user_embedding_median(user_articles_list):\n",
    "    user_articles_list = eval(user_articles_list)\n",
    "    user_vector = np.array([doc_dict[doc_id] for doc_id in user_articles_list])\n",
    "    user_vector = np.median(user_vector, 0)\n",
    "    return user_vector"
   ]
  },
  {
   "cell_type": "code",
   "execution_count": 31,
   "metadata": {},
   "outputs": [],
   "source": [
    "def get_user_embedding_max(user_articles_list):\n",
    "    user_articles_list = eval(user_articles_list)\n",
    "    user_vector = np.array([doc_dict[doc_id] for doc_id in user_articles_list])\n",
    "    user_vector = np.max(user_vector, 0)\n",
    "    return user_vector"
   ]
  },
  {
   "cell_type": "code",
   "execution_count": 32,
   "metadata": {},
   "outputs": [],
   "source": [
    "def get_user_embedding_tfidf(user_articles_list):\n",
    "    user_articles_list = eval(user_articles_list)\n",
    "    user_vector = np.array([doc_dict[doc_id] for doc_id in user_articles_list])\n",
    "    idf_weights = np.array([idf.idf_num(article) for article in user_articles_list])\n",
    "    user_vector = user_vector.T.dot(idf_weights / idf_weights.sum()).T\n",
    "    return user_vector"
   ]
  },
  {
   "cell_type": "code",
   "execution_count": 33,
   "metadata": {},
   "outputs": [],
   "source": [
    "def make_dataset(func):\n",
    "    dataset = pd.DataFrame([i for i in users['articles'].apply(lambda x: func(x), 1)])\n",
    "    dataset.columns = ['topic_{}'.format(i) for i in range(NUM_TOPICS)]\n",
    "    dataset['uid'] = users['uid'].values\n",
    "    dataset = dataset[['uid']+['topic_{}'.format(i) for i in range(NUM_TOPICS)]]\n",
    "    return dataset\n",
    "    "
   ]
  },
  {
   "cell_type": "code",
   "execution_count": 34,
   "metadata": {},
   "outputs": [
    {
     "data": {
      "text/plain": [
       "4"
      ]
     },
     "execution_count": 34,
     "metadata": {},
     "output_type": "execute_result"
    }
   ],
   "source": [
    "func_list = [get_user_embedding, get_user_embedding_median, get_user_embedding_max, get_user_embedding_tfidf]\n",
    "\n",
    "datasets = []\n",
    "\n",
    "for func in func_list:\n",
    "    datasets.append(make_dataset(func))\n",
    "    \n",
    "len(datasets)"
   ]
  },
  {
   "cell_type": "code",
   "execution_count": 35,
   "metadata": {},
   "outputs": [
    {
     "data": {
      "text/html": [
       "<div>\n",
       "<style scoped>\n",
       "    .dataframe tbody tr th:only-of-type {\n",
       "        vertical-align: middle;\n",
       "    }\n",
       "\n",
       "    .dataframe tbody tr th {\n",
       "        vertical-align: top;\n",
       "    }\n",
       "\n",
       "    .dataframe thead th {\n",
       "        text-align: right;\n",
       "    }\n",
       "</style>\n",
       "<table border=\"1\" class=\"dataframe\">\n",
       "  <thead>\n",
       "    <tr style=\"text-align: right;\">\n",
       "      <th></th>\n",
       "      <th>uid</th>\n",
       "      <th>topic_0</th>\n",
       "      <th>topic_1</th>\n",
       "      <th>topic_2</th>\n",
       "      <th>topic_3</th>\n",
       "      <th>topic_4</th>\n",
       "      <th>topic_5</th>\n",
       "      <th>topic_6</th>\n",
       "      <th>topic_7</th>\n",
       "      <th>topic_8</th>\n",
       "      <th>topic_9</th>\n",
       "      <th>topic_10</th>\n",
       "      <th>topic_11</th>\n",
       "      <th>topic_12</th>\n",
       "      <th>topic_13</th>\n",
       "      <th>topic_14</th>\n",
       "      <th>topic_15</th>\n",
       "      <th>topic_16</th>\n",
       "      <th>topic_17</th>\n",
       "    </tr>\n",
       "  </thead>\n",
       "  <tbody>\n",
       "    <tr>\n",
       "      <th>0</th>\n",
       "      <td>u105138</td>\n",
       "      <td>0.060466</td>\n",
       "      <td>0.048007</td>\n",
       "      <td>0.078600</td>\n",
       "      <td>0.000000</td>\n",
       "      <td>0.000000</td>\n",
       "      <td>0.000000</td>\n",
       "      <td>0.005797</td>\n",
       "      <td>0.198171</td>\n",
       "      <td>0.263362</td>\n",
       "      <td>0.042510</td>\n",
       "      <td>0.000000</td>\n",
       "      <td>0.009253</td>\n",
       "      <td>0.094446</td>\n",
       "      <td>0.006724</td>\n",
       "      <td>0.0</td>\n",
       "      <td>0.014255</td>\n",
       "      <td>0.000000</td>\n",
       "      <td>0.162381</td>\n",
       "    </tr>\n",
       "    <tr>\n",
       "      <th>1</th>\n",
       "      <td>u108690</td>\n",
       "      <td>0.031788</td>\n",
       "      <td>0.154198</td>\n",
       "      <td>0.177750</td>\n",
       "      <td>0.000000</td>\n",
       "      <td>0.000000</td>\n",
       "      <td>0.000000</td>\n",
       "      <td>0.000000</td>\n",
       "      <td>0.119817</td>\n",
       "      <td>0.024889</td>\n",
       "      <td>0.085466</td>\n",
       "      <td>0.070974</td>\n",
       "      <td>0.028594</td>\n",
       "      <td>0.038749</td>\n",
       "      <td>0.028824</td>\n",
       "      <td>0.0</td>\n",
       "      <td>0.216593</td>\n",
       "      <td>0.006454</td>\n",
       "      <td>0.012063</td>\n",
       "    </tr>\n",
       "    <tr>\n",
       "      <th>2</th>\n",
       "      <td>u108339</td>\n",
       "      <td>0.087310</td>\n",
       "      <td>0.215499</td>\n",
       "      <td>0.028375</td>\n",
       "      <td>0.018654</td>\n",
       "      <td>0.000000</td>\n",
       "      <td>0.004347</td>\n",
       "      <td>0.090423</td>\n",
       "      <td>0.067743</td>\n",
       "      <td>0.022907</td>\n",
       "      <td>0.095724</td>\n",
       "      <td>0.009832</td>\n",
       "      <td>0.000000</td>\n",
       "      <td>0.019144</td>\n",
       "      <td>0.000000</td>\n",
       "      <td>0.0</td>\n",
       "      <td>0.204399</td>\n",
       "      <td>0.104362</td>\n",
       "      <td>0.026919</td>\n",
       "    </tr>\n",
       "    <tr>\n",
       "      <th>3</th>\n",
       "      <td>u101138</td>\n",
       "      <td>0.011929</td>\n",
       "      <td>0.062995</td>\n",
       "      <td>0.015415</td>\n",
       "      <td>0.029078</td>\n",
       "      <td>0.103079</td>\n",
       "      <td>0.037520</td>\n",
       "      <td>0.000000</td>\n",
       "      <td>0.000000</td>\n",
       "      <td>0.044522</td>\n",
       "      <td>0.031024</td>\n",
       "      <td>0.005879</td>\n",
       "      <td>0.058025</td>\n",
       "      <td>0.020807</td>\n",
       "      <td>0.020817</td>\n",
       "      <td>0.0</td>\n",
       "      <td>0.546213</td>\n",
       "      <td>0.000000</td>\n",
       "      <td>0.000000</td>\n",
       "    </tr>\n",
       "    <tr>\n",
       "      <th>4</th>\n",
       "      <td>u108248</td>\n",
       "      <td>0.237876</td>\n",
       "      <td>0.071865</td>\n",
       "      <td>0.116985</td>\n",
       "      <td>0.000000</td>\n",
       "      <td>0.030745</td>\n",
       "      <td>0.000000</td>\n",
       "      <td>0.166225</td>\n",
       "      <td>0.020381</td>\n",
       "      <td>0.014180</td>\n",
       "      <td>0.026658</td>\n",
       "      <td>0.060740</td>\n",
       "      <td>0.046160</td>\n",
       "      <td>0.044046</td>\n",
       "      <td>0.000000</td>\n",
       "      <td>0.0</td>\n",
       "      <td>0.018803</td>\n",
       "      <td>0.114808</td>\n",
       "      <td>0.025725</td>\n",
       "    </tr>\n",
       "  </tbody>\n",
       "</table>\n",
       "</div>"
      ],
      "text/plain": [
       "       uid   topic_0   topic_1   topic_2   topic_3   topic_4   topic_5  \\\n",
       "0  u105138  0.060466  0.048007  0.078600  0.000000  0.000000  0.000000   \n",
       "1  u108690  0.031788  0.154198  0.177750  0.000000  0.000000  0.000000   \n",
       "2  u108339  0.087310  0.215499  0.028375  0.018654  0.000000  0.004347   \n",
       "3  u101138  0.011929  0.062995  0.015415  0.029078  0.103079  0.037520   \n",
       "4  u108248  0.237876  0.071865  0.116985  0.000000  0.030745  0.000000   \n",
       "\n",
       "    topic_6   topic_7   topic_8   topic_9  topic_10  topic_11  topic_12  \\\n",
       "0  0.005797  0.198171  0.263362  0.042510  0.000000  0.009253  0.094446   \n",
       "1  0.000000  0.119817  0.024889  0.085466  0.070974  0.028594  0.038749   \n",
       "2  0.090423  0.067743  0.022907  0.095724  0.009832  0.000000  0.019144   \n",
       "3  0.000000  0.000000  0.044522  0.031024  0.005879  0.058025  0.020807   \n",
       "4  0.166225  0.020381  0.014180  0.026658  0.060740  0.046160  0.044046   \n",
       "\n",
       "   topic_13  topic_14  topic_15  topic_16  topic_17  \n",
       "0  0.006724       0.0  0.014255  0.000000  0.162381  \n",
       "1  0.028824       0.0  0.216593  0.006454  0.012063  \n",
       "2  0.000000       0.0  0.204399  0.104362  0.026919  \n",
       "3  0.020817       0.0  0.546213  0.000000  0.000000  \n",
       "4  0.000000       0.0  0.018803  0.114808  0.025725  "
      ]
     },
     "execution_count": 35,
     "metadata": {},
     "output_type": "execute_result"
    }
   ],
   "source": [
    "datasets[0].head()"
   ]
  },
  {
   "cell_type": "code",
   "execution_count": 36,
   "metadata": {},
   "outputs": [
    {
     "data": {
      "text/html": [
       "<div>\n",
       "<style scoped>\n",
       "    .dataframe tbody tr th:only-of-type {\n",
       "        vertical-align: middle;\n",
       "    }\n",
       "\n",
       "    .dataframe tbody tr th {\n",
       "        vertical-align: top;\n",
       "    }\n",
       "\n",
       "    .dataframe thead th {\n",
       "        text-align: right;\n",
       "    }\n",
       "</style>\n",
       "<table border=\"1\" class=\"dataframe\">\n",
       "  <thead>\n",
       "    <tr style=\"text-align: right;\">\n",
       "      <th></th>\n",
       "      <th>uid</th>\n",
       "      <th>churn</th>\n",
       "    </tr>\n",
       "  </thead>\n",
       "  <tbody>\n",
       "    <tr>\n",
       "      <th>0</th>\n",
       "      <td>u107120</td>\n",
       "      <td>0</td>\n",
       "    </tr>\n",
       "    <tr>\n",
       "      <th>1</th>\n",
       "      <td>u102277</td>\n",
       "      <td>0</td>\n",
       "    </tr>\n",
       "    <tr>\n",
       "      <th>2</th>\n",
       "      <td>u102444</td>\n",
       "      <td>0</td>\n",
       "    </tr>\n",
       "  </tbody>\n",
       "</table>\n",
       "</div>"
      ],
      "text/plain": [
       "       uid  churn\n",
       "0  u107120      0\n",
       "1  u102277      0\n",
       "2  u102444      0"
      ]
     },
     "execution_count": 36,
     "metadata": {},
     "output_type": "execute_result"
    }
   ],
   "source": [
    "target = pd.read_csv(\"users_churn.csv\")\n",
    "target.head(3)"
   ]
  },
  {
   "cell_type": "code",
   "execution_count": 37,
   "metadata": {},
   "outputs": [
    {
     "data": {
      "text/html": [
       "<div>\n",
       "<style scoped>\n",
       "    .dataframe tbody tr th:only-of-type {\n",
       "        vertical-align: middle;\n",
       "    }\n",
       "\n",
       "    .dataframe tbody tr th {\n",
       "        vertical-align: top;\n",
       "    }\n",
       "\n",
       "    .dataframe thead th {\n",
       "        text-align: right;\n",
       "    }\n",
       "</style>\n",
       "<table border=\"1\" class=\"dataframe\">\n",
       "  <thead>\n",
       "    <tr style=\"text-align: right;\">\n",
       "      <th></th>\n",
       "      <th>uid</th>\n",
       "      <th>topic_0</th>\n",
       "      <th>topic_1</th>\n",
       "      <th>topic_2</th>\n",
       "      <th>topic_3</th>\n",
       "      <th>topic_4</th>\n",
       "      <th>topic_5</th>\n",
       "      <th>topic_6</th>\n",
       "      <th>topic_7</th>\n",
       "      <th>topic_8</th>\n",
       "      <th>topic_9</th>\n",
       "      <th>topic_10</th>\n",
       "      <th>topic_11</th>\n",
       "      <th>topic_12</th>\n",
       "      <th>topic_13</th>\n",
       "      <th>topic_14</th>\n",
       "      <th>topic_15</th>\n",
       "      <th>topic_16</th>\n",
       "      <th>topic_17</th>\n",
       "      <th>churn</th>\n",
       "    </tr>\n",
       "  </thead>\n",
       "  <tbody>\n",
       "    <tr>\n",
       "      <th>0</th>\n",
       "      <td>u105138</td>\n",
       "      <td>0.059514</td>\n",
       "      <td>0.047487</td>\n",
       "      <td>0.077749</td>\n",
       "      <td>0.000000</td>\n",
       "      <td>0.000000</td>\n",
       "      <td>0.000000</td>\n",
       "      <td>0.005373</td>\n",
       "      <td>0.197877</td>\n",
       "      <td>0.275412</td>\n",
       "      <td>0.052163</td>\n",
       "      <td>0.000000</td>\n",
       "      <td>0.009152</td>\n",
       "      <td>0.084186</td>\n",
       "      <td>0.006652</td>\n",
       "      <td>0.0</td>\n",
       "      <td>0.012524</td>\n",
       "      <td>0.000000</td>\n",
       "      <td>0.156237</td>\n",
       "      <td>0</td>\n",
       "    </tr>\n",
       "    <tr>\n",
       "      <th>1</th>\n",
       "      <td>u108690</td>\n",
       "      <td>0.034090</td>\n",
       "      <td>0.152000</td>\n",
       "      <td>0.209568</td>\n",
       "      <td>0.000000</td>\n",
       "      <td>0.000000</td>\n",
       "      <td>0.000000</td>\n",
       "      <td>0.000000</td>\n",
       "      <td>0.130172</td>\n",
       "      <td>0.026691</td>\n",
       "      <td>0.081609</td>\n",
       "      <td>0.062090</td>\n",
       "      <td>0.029149</td>\n",
       "      <td>0.041555</td>\n",
       "      <td>0.025216</td>\n",
       "      <td>0.0</td>\n",
       "      <td>0.185146</td>\n",
       "      <td>0.007289</td>\n",
       "      <td>0.011710</td>\n",
       "      <td>1</td>\n",
       "    </tr>\n",
       "    <tr>\n",
       "      <th>2</th>\n",
       "      <td>u108339</td>\n",
       "      <td>0.110236</td>\n",
       "      <td>0.233326</td>\n",
       "      <td>0.026878</td>\n",
       "      <td>0.018664</td>\n",
       "      <td>0.000000</td>\n",
       "      <td>0.004222</td>\n",
       "      <td>0.083252</td>\n",
       "      <td>0.062011</td>\n",
       "      <td>0.023746</td>\n",
       "      <td>0.094244</td>\n",
       "      <td>0.008003</td>\n",
       "      <td>0.000000</td>\n",
       "      <td>0.018595</td>\n",
       "      <td>0.000000</td>\n",
       "      <td>0.0</td>\n",
       "      <td>0.182593</td>\n",
       "      <td>0.102160</td>\n",
       "      <td>0.027905</td>\n",
       "      <td>1</td>\n",
       "    </tr>\n",
       "    <tr>\n",
       "      <th>3</th>\n",
       "      <td>u101138</td>\n",
       "      <td>0.011685</td>\n",
       "      <td>0.070621</td>\n",
       "      <td>0.014314</td>\n",
       "      <td>0.027656</td>\n",
       "      <td>0.100977</td>\n",
       "      <td>0.036755</td>\n",
       "      <td>0.000000</td>\n",
       "      <td>0.000000</td>\n",
       "      <td>0.041909</td>\n",
       "      <td>0.028807</td>\n",
       "      <td>0.005759</td>\n",
       "      <td>0.059793</td>\n",
       "      <td>0.020025</td>\n",
       "      <td>0.019329</td>\n",
       "      <td>0.0</td>\n",
       "      <td>0.549615</td>\n",
       "      <td>0.000000</td>\n",
       "      <td>0.000000</td>\n",
       "      <td>0</td>\n",
       "    </tr>\n",
       "    <tr>\n",
       "      <th>4</th>\n",
       "      <td>u108248</td>\n",
       "      <td>0.233927</td>\n",
       "      <td>0.074619</td>\n",
       "      <td>0.120145</td>\n",
       "      <td>0.000000</td>\n",
       "      <td>0.030014</td>\n",
       "      <td>0.000000</td>\n",
       "      <td>0.171201</td>\n",
       "      <td>0.019960</td>\n",
       "      <td>0.013221</td>\n",
       "      <td>0.029302</td>\n",
       "      <td>0.058080</td>\n",
       "      <td>0.043038</td>\n",
       "      <td>0.044790</td>\n",
       "      <td>0.000000</td>\n",
       "      <td>0.0</td>\n",
       "      <td>0.019366</td>\n",
       "      <td>0.111171</td>\n",
       "      <td>0.026496</td>\n",
       "      <td>1</td>\n",
       "    </tr>\n",
       "  </tbody>\n",
       "</table>\n",
       "</div>"
      ],
      "text/plain": [
       "       uid   topic_0   topic_1   topic_2   topic_3   topic_4   topic_5  \\\n",
       "0  u105138  0.059514  0.047487  0.077749  0.000000  0.000000  0.000000   \n",
       "1  u108690  0.034090  0.152000  0.209568  0.000000  0.000000  0.000000   \n",
       "2  u108339  0.110236  0.233326  0.026878  0.018664  0.000000  0.004222   \n",
       "3  u101138  0.011685  0.070621  0.014314  0.027656  0.100977  0.036755   \n",
       "4  u108248  0.233927  0.074619  0.120145  0.000000  0.030014  0.000000   \n",
       "\n",
       "    topic_6   topic_7   topic_8   topic_9  topic_10  topic_11  topic_12  \\\n",
       "0  0.005373  0.197877  0.275412  0.052163  0.000000  0.009152  0.084186   \n",
       "1  0.000000  0.130172  0.026691  0.081609  0.062090  0.029149  0.041555   \n",
       "2  0.083252  0.062011  0.023746  0.094244  0.008003  0.000000  0.018595   \n",
       "3  0.000000  0.000000  0.041909  0.028807  0.005759  0.059793  0.020025   \n",
       "4  0.171201  0.019960  0.013221  0.029302  0.058080  0.043038  0.044790   \n",
       "\n",
       "   topic_13  topic_14  topic_15  topic_16  topic_17  churn  \n",
       "0  0.006652       0.0  0.012524  0.000000  0.156237      0  \n",
       "1  0.025216       0.0  0.185146  0.007289  0.011710      1  \n",
       "2  0.000000       0.0  0.182593  0.102160  0.027905      1  \n",
       "3  0.019329       0.0  0.549615  0.000000  0.000000      0  \n",
       "4  0.000000       0.0  0.019366  0.111171  0.026496      1  "
      ]
     },
     "execution_count": 37,
     "metadata": {},
     "output_type": "execute_result"
    }
   ],
   "source": [
    "for i in range(len(datasets)):\n",
    "    datasets[i] = pd.merge(datasets[i], target, 'left')\n",
    "    \n",
    "datasets[3].head()"
   ]
  },
  {
   "cell_type": "code",
   "execution_count": 38,
   "metadata": {},
   "outputs": [],
   "source": [
    "from sklearn.linear_model import LogisticRegression\n",
    "from sklearn.model_selection import train_test_split\n",
    "from sklearn.metrics import roc_auc_score, precision_recall_curve\n",
    "#import itertools\n",
    "\n",
    "import matplotlib.pyplot as plt\n",
    "\n",
    "%matplotlib inline"
   ]
  },
  {
   "cell_type": "code",
   "execution_count": 39,
   "metadata": {},
   "outputs": [
    {
     "data": {
      "text/html": [
       "<div>\n",
       "<style scoped>\n",
       "    .dataframe tbody tr th:only-of-type {\n",
       "        vertical-align: middle;\n",
       "    }\n",
       "\n",
       "    .dataframe tbody tr th {\n",
       "        vertical-align: top;\n",
       "    }\n",
       "\n",
       "    .dataframe thead th {\n",
       "        text-align: right;\n",
       "    }\n",
       "</style>\n",
       "<table border=\"1\" class=\"dataframe\">\n",
       "  <thead>\n",
       "    <tr style=\"text-align: right;\">\n",
       "      <th></th>\n",
       "      <th>EmbeddingFunction</th>\n",
       "      <th>preds</th>\n",
       "      <th>roc_auc</th>\n",
       "      <th>precision</th>\n",
       "      <th>recall</th>\n",
       "      <th>f_score</th>\n",
       "      <th>thresholds</th>\n",
       "    </tr>\n",
       "  </thead>\n",
       "  <tbody>\n",
       "    <tr>\n",
       "      <th>0</th>\n",
       "      <td>get_user_embedding</td>\n",
       "      <td>[0.02934377525090054, 0.06755032612864267, 0.9...</td>\n",
       "      <td>0.987950</td>\n",
       "      <td>0.861789</td>\n",
       "      <td>0.865306</td>\n",
       "      <td>0.863544</td>\n",
       "      <td>0.363822</td>\n",
       "    </tr>\n",
       "    <tr>\n",
       "      <th>1</th>\n",
       "      <td>get_user_embedding_median</td>\n",
       "      <td>[0.09262075965357204, 0.04958473434994547, 0.3...</td>\n",
       "      <td>0.948527</td>\n",
       "      <td>0.741071</td>\n",
       "      <td>0.677551</td>\n",
       "      <td>0.707889</td>\n",
       "      <td>0.326568</td>\n",
       "    </tr>\n",
       "    <tr>\n",
       "      <th>2</th>\n",
       "      <td>get_user_embedding_max</td>\n",
       "      <td>[0.003989690162583947, 0.055443204505405276, 0...</td>\n",
       "      <td>0.977552</td>\n",
       "      <td>0.814050</td>\n",
       "      <td>0.804082</td>\n",
       "      <td>0.809035</td>\n",
       "      <td>0.431038</td>\n",
       "    </tr>\n",
       "    <tr>\n",
       "      <th>3</th>\n",
       "      <td>get_user_embedding_tfidf</td>\n",
       "      <td>[0.028849722371873616, 0.05912811318064861, 0....</td>\n",
       "      <td>0.988183</td>\n",
       "      <td>0.847059</td>\n",
       "      <td>0.881633</td>\n",
       "      <td>0.864000</td>\n",
       "      <td>0.355006</td>\n",
       "    </tr>\n",
       "  </tbody>\n",
       "</table>\n",
       "</div>"
      ],
      "text/plain": [
       "           EmbeddingFunction  \\\n",
       "0         get_user_embedding   \n",
       "1  get_user_embedding_median   \n",
       "2     get_user_embedding_max   \n",
       "3   get_user_embedding_tfidf   \n",
       "\n",
       "                                               preds   roc_auc  precision  \\\n",
       "0  [0.02934377525090054, 0.06755032612864267, 0.9...  0.987950   0.861789   \n",
       "1  [0.09262075965357204, 0.04958473434994547, 0.3...  0.948527   0.741071   \n",
       "2  [0.003989690162583947, 0.055443204505405276, 0...  0.977552   0.814050   \n",
       "3  [0.028849722371873616, 0.05912811318064861, 0....  0.988183   0.847059   \n",
       "\n",
       "     recall   f_score  thresholds  \n",
       "0  0.865306  0.863544    0.363822  \n",
       "1  0.677551  0.707889    0.326568  \n",
       "2  0.804082  0.809035    0.431038  \n",
       "3  0.881633  0.864000    0.355006  "
      ]
     },
     "execution_count": 39,
     "metadata": {},
     "output_type": "execute_result"
    }
   ],
   "source": [
    "results = []\n",
    "\n",
    "for index, dataset in enumerate(datasets):\n",
    "    X_train, X_test, y_train, y_test = train_test_split(dataset[['topic_{}'.format(i) for i in range(NUM_TOPICS)]], \n",
    "                                                        dataset['churn'], random_state=0)\n",
    "    \n",
    "    logreg = LogisticRegression()#C=5, class_weight='balanced')\n",
    "    logreg.fit(X_train, y_train)\n",
    "    \n",
    "    preds = logreg.predict_proba(X_test)[:, 1]\n",
    "    \n",
    "    precision, recall, thresholds = precision_recall_curve(y_test, preds)\n",
    "    fscore = (2 * precision * recall) / (precision + recall)\n",
    "    \n",
    "    ix = np.argmax(fscore)\n",
    "    \n",
    "    #best_treshold, best_fscore, best_precision, best_recall = thresholds[ix], fscore[ix], precision[ix], recall[ix]\n",
    "    roc_auc = roc_auc_score(y_test, preds)\n",
    "    \n",
    "    name = func_list[index].__name__\n",
    "    \n",
    "    results.append([name, preds, roc_auc, precision[ix], recall[ix], fscore[ix], thresholds[ix]])\n",
    "    \n",
    "results = pd.DataFrame(results, columns=['EmbeddingFunction', 'preds', 'roc_auc', 'precision', 'recall', 'f_score', 'thresholds'])\n",
    "results"
   ]
  },
  {
   "cell_type": "code",
   "execution_count": 40,
   "metadata": {},
   "outputs": [
    {
     "data": {
      "image/png": "[encoded data removed]",
      "text/plain": [
       "<Figure size 1296x720 with 1 Axes>"
      ]
     },
     "metadata": {
      "needs_background": "light"
     },
     "output_type": "display_data"
    }
   ],
   "source": [
    "import matplotlib.pyplot as plt\n",
    "from sklearn.metrics import roc_curve\n",
    "\n",
    "plt.figure(figsize=(18,10))\n",
    "\n",
    "for i in range(4):\n",
    "    fpr, tpr, _ = roc_curve(y_test,  results.iloc[i]['preds'])\n",
    "    auc = roc_auc_score(y_test, results.iloc[i]['preds'])\n",
    "    plt.plot(fpr, tpr, label = f\"{results.iloc[i]['EmbeddingFunction']} auc={auc}\")\n",
    "             \n",
    "plt.legend(loc=4)\n",
    "plt.show()"
   ]
  },
  {
   "cell_type": "code",
   "execution_count": 41,
   "metadata": {},
   "outputs": [],
   "source": [
    "from catboost import CatBoostClassifier"
   ]
  },
  {
   "cell_type": "code",
   "execution_count": 42,
   "metadata": {},
   "outputs": [
    {
     "data": {
      "text/html": [
       "<div>\n",
       "<style scoped>\n",
       "    .dataframe tbody tr th:only-of-type {\n",
       "        vertical-align: middle;\n",
       "    }\n",
       "\n",
       "    .dataframe tbody tr th {\n",
       "        vertical-align: top;\n",
       "    }\n",
       "\n",
       "    .dataframe thead th {\n",
       "        text-align: right;\n",
       "    }\n",
       "</style>\n",
       "<table border=\"1\" class=\"dataframe\">\n",
       "  <thead>\n",
       "    <tr style=\"text-align: right;\">\n",
       "      <th></th>\n",
       "      <th>EmbeddingFunction</th>\n",
       "      <th>preds</th>\n",
       "      <th>roc_auc</th>\n",
       "      <th>precision</th>\n",
       "      <th>recall</th>\n",
       "      <th>f_score</th>\n",
       "      <th>thresholds</th>\n",
       "    </tr>\n",
       "  </thead>\n",
       "  <tbody>\n",
       "    <tr>\n",
       "      <th>0</th>\n",
       "      <td>get_user_embedding</td>\n",
       "      <td>[0.0016647039283422208, 0.0033119756461333664,...</td>\n",
       "      <td>0.989560</td>\n",
       "      <td>0.909091</td>\n",
       "      <td>0.857143</td>\n",
       "      <td>0.882353</td>\n",
       "      <td>0.532506</td>\n",
       "    </tr>\n",
       "    <tr>\n",
       "      <th>1</th>\n",
       "      <td>get_user_embedding_median</td>\n",
       "      <td>[0.023643163172186798, 0.003668014745017055, 0...</td>\n",
       "      <td>0.969342</td>\n",
       "      <td>0.791837</td>\n",
       "      <td>0.791837</td>\n",
       "      <td>0.791837</td>\n",
       "      <td>0.363938</td>\n",
       "    </tr>\n",
       "    <tr>\n",
       "      <th>2</th>\n",
       "      <td>get_user_embedding_max</td>\n",
       "      <td>[0.01077176183043781, 0.003708068644508272, 0....</td>\n",
       "      <td>0.985127</td>\n",
       "      <td>0.884444</td>\n",
       "      <td>0.812245</td>\n",
       "      <td>0.846809</td>\n",
       "      <td>0.538975</td>\n",
       "    </tr>\n",
       "    <tr>\n",
       "      <th>3</th>\n",
       "      <td>get_user_embedding_tfidf</td>\n",
       "      <td>[0.0011876222352678629, 0.004261958724629497, ...</td>\n",
       "      <td>0.988781</td>\n",
       "      <td>0.917031</td>\n",
       "      <td>0.857143</td>\n",
       "      <td>0.886076</td>\n",
       "      <td>0.596265</td>\n",
       "    </tr>\n",
       "  </tbody>\n",
       "</table>\n",
       "</div>"
      ],
      "text/plain": [
       "           EmbeddingFunction  \\\n",
       "0         get_user_embedding   \n",
       "1  get_user_embedding_median   \n",
       "2     get_user_embedding_max   \n",
       "3   get_user_embedding_tfidf   \n",
       "\n",
       "                                               preds   roc_auc  precision  \\\n",
       "0  [0.0016647039283422208, 0.0033119756461333664,...  0.989560   0.909091   \n",
       "1  [0.023643163172186798, 0.003668014745017055, 0...  0.969342   0.791837   \n",
       "2  [0.01077176183043781, 0.003708068644508272, 0....  0.985127   0.884444   \n",
       "3  [0.0011876222352678629, 0.004261958724629497, ...  0.988781   0.917031   \n",
       "\n",
       "     recall   f_score  thresholds  \n",
       "0  0.857143  0.882353    0.532506  \n",
       "1  0.791837  0.791837    0.363938  \n",
       "2  0.812245  0.846809    0.538975  \n",
       "3  0.857143  0.886076    0.596265  "
      ]
     },
     "execution_count": 42,
     "metadata": {},
     "output_type": "execute_result"
    }
   ],
   "source": [
    "results = []\n",
    "\n",
    "for index, dataset in enumerate(datasets):\n",
    "    X_train, X_test, y_train, y_test = train_test_split(dataset[['topic_{}'.format(i) for i in range(NUM_TOPICS)]], \n",
    "                                                        dataset['churn'], random_state=0)\n",
    "    \n",
    "    model = CatBoostClassifier(iterations=15000,\n",
    "                           learning_rate=0.004,\n",
    "                           early_stopping_rounds = 150,\n",
    "                           verbose = False,\n",
    "                           custom_metric = ['Logloss', 'AUC'])\n",
    "\n",
    "    model.fit(X_train, y_train, eval_set=(X_test, y_test))\n",
    "    \n",
    "    preds = model.predict_proba(X_test)[:, 1]\n",
    "    \n",
    "    precision, recall, thresholds = precision_recall_curve(y_test, preds)\n",
    "    fscore = (2 * precision * recall) / (precision + recall)\n",
    "    \n",
    "    ix = np.argmax(fscore)\n",
    "    \n",
    "    roc_auc = roc_auc_score(y_test, preds)\n",
    "    \n",
    "    name = func_list[index].__name__\n",
    "    \n",
    "    results.append([name, preds, roc_auc, precision[ix], recall[ix], fscore[ix], thresholds[ix]])\n",
    "    \n",
    "results = pd.DataFrame(results, columns=['EmbeddingFunction', 'preds', 'roc_auc', 'precision', 'recall', 'f_score', 'thresholds'])\n",
    "results"
   ]
  },
  {
   "cell_type": "code",
   "execution_count": 43,
   "metadata": {},
   "outputs": [
    {
     "data": {
      "image/png": "[encoded data removed]",
      "text/plain": [
       "<Figure size 1296x720 with 1 Axes>"
      ]
     },
     "metadata": {
      "needs_background": "light"
     },
     "output_type": "display_data"
    }
   ],
   "source": [
    "plt.figure(figsize=(18,10))\n",
    "\n",
    "for i in range(4):\n",
    "    fpr, tpr, _ = roc_curve(y_test,  results.iloc[i]['preds'])\n",
    "    auc = roc_auc_score(y_test, results.iloc[i]['preds'])\n",
    "    plt.plot(fpr, tpr, label = f\"{results.iloc[i]['EmbeddingFunction']} auc={auc}\")\n",
    "             \n",
    "plt.legend(loc=4)\n",
    "plt.show()"
   ]
  }
 ],
 "metadata": {
  "kernelspec": {
   "display_name": "Python 3",
   "language": "python",
   "name": "python3"
  },
  "language_info": {
   "codemirror_mode": {
    "name": "ipython",
    "version": 3
   },
   "file_extension": ".py",
   "mimetype": "text/x-python",
   "name": "python",
   "nbconvert_exporter": "python",
   "pygments_lexer": "ipython3",
   "version": "3.7.3"
  }
 },
 "nbformat": 4,
 "nbformat_minor": 2
}
