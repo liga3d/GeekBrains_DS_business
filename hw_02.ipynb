{
 "cells": [
  {
   "cell_type": "code",
   "execution_count": 1,
   "metadata": {},
   "outputs": [],
   "source": [
    "import warnings\n",
    "warnings.filterwarnings('ignore')"
   ]
  },
  {
   "cell_type": "code",
   "execution_count": 2,
   "metadata": {},
   "outputs": [
    {
     "name": "stderr",
     "output_type": "stream",
     "text": [
      "D:\\Anaconda\\lib\\site-packages\\sklearn\\feature_extraction\\image.py:167: DeprecationWarning: `np.int` is a deprecated alias for the builtin `int`. To silence this warning, use `int` by itself. Doing this will not modify any behavior and is safe. When replacing `np.int`, you may wish to use e.g. `np.int64` or `np.int32` to specify the precision. If you wish to review your current use, check the release note link for additional information.\n",
      "Deprecated in NumPy 1.20; for more details and guidance: https://numpy.org/devdocs/release/1.20.0-notes.html#deprecations\n",
      "  dtype=np.int):\n",
      "D:\\Anaconda\\lib\\site-packages\\sklearn\\linear_model\\least_angle.py:30: DeprecationWarning: `np.float` is a deprecated alias for the builtin `float`. To silence this warning, use `float` by itself. Doing this will not modify any behavior and is safe. If you specifically wanted the numpy scalar type, use `np.float64` here.\n",
      "Deprecated in NumPy 1.20; for more details and guidance: https://numpy.org/devdocs/release/1.20.0-notes.html#deprecations\n",
      "  method='lar', copy_X=True, eps=np.finfo(np.float).eps,\n",
      "D:\\Anaconda\\lib\\site-packages\\sklearn\\linear_model\\least_angle.py:167: DeprecationWarning: `np.float` is a deprecated alias for the builtin `float`. To silence this warning, use `float` by itself. Doing this will not modify any behavior and is safe. If you specifically wanted the numpy scalar type, use `np.float64` here.\n",
      "Deprecated in NumPy 1.20; for more details and guidance: https://numpy.org/devdocs/release/1.20.0-notes.html#deprecations\n",
      "  method='lar', copy_X=True, eps=np.finfo(np.float).eps,\n",
      "D:\\Anaconda\\lib\\site-packages\\sklearn\\linear_model\\least_angle.py:284: DeprecationWarning: `np.float` is a deprecated alias for the builtin `float`. To silence this warning, use `float` by itself. Doing this will not modify any behavior and is safe. If you specifically wanted the numpy scalar type, use `np.float64` here.\n",
      "Deprecated in NumPy 1.20; for more details and guidance: https://numpy.org/devdocs/release/1.20.0-notes.html#deprecations\n",
      "  eps=np.finfo(np.float).eps, copy_Gram=True, verbose=0,\n",
      "D:\\Anaconda\\lib\\site-packages\\sklearn\\linear_model\\least_angle.py:862: DeprecationWarning: `np.float` is a deprecated alias for the builtin `float`. To silence this warning, use `float` by itself. Doing this will not modify any behavior and is safe. If you specifically wanted the numpy scalar type, use `np.float64` here.\n",
      "Deprecated in NumPy 1.20; for more details and guidance: https://numpy.org/devdocs/release/1.20.0-notes.html#deprecations\n",
      "  eps=np.finfo(np.float).eps, copy_X=True, fit_path=True,\n",
      "D:\\Anaconda\\lib\\site-packages\\sklearn\\linear_model\\least_angle.py:1101: DeprecationWarning: `np.float` is a deprecated alias for the builtin `float`. To silence this warning, use `float` by itself. Doing this will not modify any behavior and is safe. If you specifically wanted the numpy scalar type, use `np.float64` here.\n",
      "Deprecated in NumPy 1.20; for more details and guidance: https://numpy.org/devdocs/release/1.20.0-notes.html#deprecations\n",
      "  eps=np.finfo(np.float).eps, copy_X=True, fit_path=True,\n",
      "D:\\Anaconda\\lib\\site-packages\\sklearn\\linear_model\\least_angle.py:1127: DeprecationWarning: `np.float` is a deprecated alias for the builtin `float`. To silence this warning, use `float` by itself. Doing this will not modify any behavior and is safe. If you specifically wanted the numpy scalar type, use `np.float64` here.\n",
      "Deprecated in NumPy 1.20; for more details and guidance: https://numpy.org/devdocs/release/1.20.0-notes.html#deprecations\n",
      "  eps=np.finfo(np.float).eps, positive=False):\n",
      "D:\\Anaconda\\lib\\site-packages\\sklearn\\linear_model\\least_angle.py:1362: DeprecationWarning: `np.float` is a deprecated alias for the builtin `float`. To silence this warning, use `float` by itself. Doing this will not modify any behavior and is safe. If you specifically wanted the numpy scalar type, use `np.float64` here.\n",
      "Deprecated in NumPy 1.20; for more details and guidance: https://numpy.org/devdocs/release/1.20.0-notes.html#deprecations\n",
      "  max_n_alphas=1000, n_jobs=None, eps=np.finfo(np.float).eps,\n",
      "D:\\Anaconda\\lib\\site-packages\\sklearn\\linear_model\\least_angle.py:1602: DeprecationWarning: `np.float` is a deprecated alias for the builtin `float`. To silence this warning, use `float` by itself. Doing this will not modify any behavior and is safe. If you specifically wanted the numpy scalar type, use `np.float64` here.\n",
      "Deprecated in NumPy 1.20; for more details and guidance: https://numpy.org/devdocs/release/1.20.0-notes.html#deprecations\n",
      "  max_n_alphas=1000, n_jobs=None, eps=np.finfo(np.float).eps,\n",
      "D:\\Anaconda\\lib\\site-packages\\sklearn\\linear_model\\least_angle.py:1738: DeprecationWarning: `np.float` is a deprecated alias for the builtin `float`. To silence this warning, use `float` by itself. Doing this will not modify any behavior and is safe. If you specifically wanted the numpy scalar type, use `np.float64` here.\n",
      "Deprecated in NumPy 1.20; for more details and guidance: https://numpy.org/devdocs/release/1.20.0-notes.html#deprecations\n",
      "  eps=np.finfo(np.float).eps, copy_X=True, positive=False):\n"
     ]
    }
   ],
   "source": [
    "import pandas as pd\n",
    "import numpy as np\n",
    "import re\n",
    "import pymorphy2\n",
    "\n",
    "from gensim.corpora.dictionary import Dictionary\n",
    "from nltk.corpus import stopwords\n",
    "from razdel import tokenize"
   ]
  },
  {
   "cell_type": "code",
   "execution_count": 3,
   "metadata": {},
   "outputs": [
    {
     "name": "stdout",
     "output_type": "stream",
     "text": [
      "(27000, 2)\n"
     ]
    },
    {
     "data": {
      "text/html": [
       "<div>\n",
       "<style scoped>\n",
       "    .dataframe tbody tr th:only-of-type {\n",
       "        vertical-align: middle;\n",
       "    }\n",
       "\n",
       "    .dataframe tbody tr th {\n",
       "        vertical-align: top;\n",
       "    }\n",
       "\n",
       "    .dataframe thead th {\n",
       "        text-align: right;\n",
       "    }\n",
       "</style>\n",
       "<table border=\"1\" class=\"dataframe\">\n",
       "  <thead>\n",
       "    <tr style=\"text-align: right;\">\n",
       "      <th></th>\n",
       "      <th>doc_id</th>\n",
       "      <th>title</th>\n",
       "    </tr>\n",
       "  </thead>\n",
       "  <tbody>\n",
       "    <tr>\n",
       "      <th>0</th>\n",
       "      <td>6</td>\n",
       "      <td>Заместитель председателяnправительства РФnСерг...</td>\n",
       "    </tr>\n",
       "    <tr>\n",
       "      <th>1</th>\n",
       "      <td>4896</td>\n",
       "      <td>Матч 1/16 финала Кубка России по футболу был п...</td>\n",
       "    </tr>\n",
       "    <tr>\n",
       "      <th>2</th>\n",
       "      <td>4897</td>\n",
       "      <td>Форвард «Авангарда» Томаш Заборский прокоммент...</td>\n",
       "    </tr>\n",
       "  </tbody>\n",
       "</table>\n",
       "</div>"
      ],
      "text/plain": [
       "   doc_id                                              title\n",
       "0       6  Заместитель председателяnправительства РФnСерг...\n",
       "1    4896  Матч 1/16 финала Кубка России по футболу был п...\n",
       "2    4897  Форвард «Авангарда» Томаш Заборский прокоммент..."
      ]
     },
     "execution_count": 3,
     "metadata": {},
     "output_type": "execute_result"
    }
   ],
   "source": [
    "news = pd.read_csv(\"articles.csv\")\n",
    "print(news.shape)\n",
    "news.head(3)"
   ]
  },
  {
   "cell_type": "code",
   "execution_count": 4,
   "metadata": {},
   "outputs": [
    {
     "data": {
      "text/html": [
       "<div>\n",
       "<style scoped>\n",
       "    .dataframe tbody tr th:only-of-type {\n",
       "        vertical-align: middle;\n",
       "    }\n",
       "\n",
       "    .dataframe tbody tr th {\n",
       "        vertical-align: top;\n",
       "    }\n",
       "\n",
       "    .dataframe thead th {\n",
       "        text-align: right;\n",
       "    }\n",
       "</style>\n",
       "<table border=\"1\" class=\"dataframe\">\n",
       "  <thead>\n",
       "    <tr style=\"text-align: right;\">\n",
       "      <th></th>\n",
       "      <th>uid</th>\n",
       "      <th>articles</th>\n",
       "    </tr>\n",
       "  </thead>\n",
       "  <tbody>\n",
       "    <tr>\n",
       "      <th>0</th>\n",
       "      <td>u105138</td>\n",
       "      <td>[293672, 293328, 293001, 293622, 293126, 1852]</td>\n",
       "    </tr>\n",
       "    <tr>\n",
       "      <th>1</th>\n",
       "      <td>u108690</td>\n",
       "      <td>[3405, 1739, 2972, 1158, 1599, 322665]</td>\n",
       "    </tr>\n",
       "    <tr>\n",
       "      <th>2</th>\n",
       "      <td>u108339</td>\n",
       "      <td>[1845, 2009, 2356, 1424, 2939, 323389]</td>\n",
       "    </tr>\n",
       "  </tbody>\n",
       "</table>\n",
       "</div>"
      ],
      "text/plain": [
       "       uid                                        articles\n",
       "0  u105138  [293672, 293328, 293001, 293622, 293126, 1852]\n",
       "1  u108690          [3405, 1739, 2972, 1158, 1599, 322665]\n",
       "2  u108339          [1845, 2009, 2356, 1424, 2939, 323389]"
      ]
     },
     "execution_count": 4,
     "metadata": {},
     "output_type": "execute_result"
    }
   ],
   "source": [
    "users = pd.read_csv(\"users_articles.csv\")\n",
    "users.head(3)"
   ]
  },
  {
   "cell_type": "code",
   "execution_count": 5,
   "metadata": {},
   "outputs": [
    {
     "name": "stderr",
     "output_type": "stream",
     "text": [
      "[nltk_data] Downloading package stopwords to\n",
      "[nltk_data]     C:\\Users\\Игорь\\AppData\\Roaming\\nltk_data...\n",
      "[nltk_data]   Package stopwords is already up-to-date!\n"
     ]
    },
    {
     "data": {
      "text/plain": [
       "True"
      ]
     },
     "execution_count": 5,
     "metadata": {},
     "output_type": "execute_result"
    }
   ],
   "source": [
    "import nltk\n",
    "nltk.download('stopwords')"
   ]
  },
  {
   "cell_type": "code",
   "execution_count": 6,
   "metadata": {},
   "outputs": [],
   "source": [
    "stopword_ru = stopwords.words('russian')\n",
    "\n",
    "morph = pymorphy2.MorphAnalyzer()"
   ]
  },
  {
   "cell_type": "code",
   "execution_count": 7,
   "metadata": {},
   "outputs": [
    {
     "data": {
      "text/plain": [
       "151"
      ]
     },
     "execution_count": 7,
     "metadata": {},
     "output_type": "execute_result"
    }
   ],
   "source": [
    "len(stopword_ru)"
   ]
  },
  {
   "cell_type": "code",
   "execution_count": 8,
   "metadata": {},
   "outputs": [
    {
     "data": {
      "text/plain": [
       "776"
      ]
     },
     "execution_count": 8,
     "metadata": {},
     "output_type": "execute_result"
    }
   ],
   "source": [
    "with open('stopwords.txt', encoding='utf-8') as f:\n",
    "    additional_stopwords = [w.strip() for w in f.readlines() if w]\n",
    "stopword_ru += additional_stopwords\n",
    "len(stopword_ru)"
   ]
  },
  {
   "cell_type": "code",
   "execution_count": 9,
   "metadata": {},
   "outputs": [
    {
     "data": {
      "text/plain": [
       "['им', 'более', 'всегда', 'конечно', 'всю', 'между', 'год', 'и', 'в', 'во']"
      ]
     },
     "execution_count": 9,
     "metadata": {},
     "output_type": "execute_result"
    }
   ],
   "source": [
    "stopword_ru[145:155]"
   ]
  },
  {
   "cell_type": "code",
   "execution_count": 10,
   "metadata": {},
   "outputs": [],
   "source": [
    "def clean_text(text):\n",
    "    '''\n",
    "    очистка текста\n",
    "    \n",
    "    на выходе очищеный текст\n",
    "    \n",
    "    '''\n",
    "    if not isinstance(text, str):\n",
    "        text = str(text)\n",
    "    \n",
    "    text = text.lower()\n",
    "    text = text.strip('\\n').strip('\\r').strip('\\t')\n",
    "    text = re.sub(\"-\\s\\r\\n\\|-\\s\\r\\n|\\r\\n\", '', str(text))\n",
    "\n",
    "    text = re.sub(\"[0-9]|[-—.,:;_%©«»?*!@#№$^•·&()]|[+=]|[[]|[]]|[/]|\", '', text)\n",
    "    text = re.sub(r\"\\r\\n\\t|\\n|\\\\s|\\r\\t|\\\\n\", ' ', text)\n",
    "    text = re.sub(r'[\\xad]|[\\s+]', ' ', text.strip())\n",
    "    \n",
    "    #tokens = list(tokenize(text))\n",
    "    #words = [_.text for _ in tokens]\n",
    "    #words = [w for w in words if w not in stopword_ru]\n",
    "    \n",
    "    #return \" \".join(words)\n",
    "    return text\n",
    "\n",
    "cache = {}\n",
    "\n",
    "def lemmatization(text):\n",
    "    '''\n",
    "    лемматизация\n",
    "        [0] если зашел тип не `str` делаем его `str`\n",
    "        [1] токенизация предложения через razdel\n",
    "        [2] проверка есть ли в начале слова '-'\n",
    "        [3] проверка токена с одного символа\n",
    "        [4] проверка есть ли данное слово в кэше\n",
    "        [5] лемматизация слова\n",
    "        [6] проверка на стоп-слова\n",
    "\n",
    "    на выходе лист отлемматизированых токенов\n",
    "    '''\n",
    "\n",
    "    # [0]\n",
    "    if not isinstance(text, str):\n",
    "        text = str(text)\n",
    "    \n",
    "    # [1]\n",
    "    tokens = list(tokenize(text))\n",
    "    words = [_.text for _ in tokens]\n",
    "\n",
    "    words_lem = []\n",
    "    for w in words:\n",
    "        if w[0] == '-': # [2]\n",
    "            w = w[1:]\n",
    "        if len(w)>1: # [3]\n",
    "            if w in cache: # [4]\n",
    "                words_lem.append(cache[w])\n",
    "            else: # [5]\n",
    "                temp_cache = cache[w] = morph.parse(w)[0].normal_form\n",
    "                words_lem.append(temp_cache)\n",
    "    \n",
    "    words_lem_without_stopwords=[i for i in words_lem if not i in stopword_ru] # [6]\n",
    "    \n",
    "    return words_lem_without_stopwords"
   ]
  },
  {
   "cell_type": "code",
   "execution_count": 11,
   "metadata": {},
   "outputs": [],
   "source": [
    "news['title'] = news['title'].apply(lambda x: clean_text(x), 1)"
   ]
  },
  {
   "cell_type": "code",
   "execution_count": 12,
   "metadata": {},
   "outputs": [],
   "source": [
    "news['title'] = news['title'].apply(lambda x: lemmatization(x), 1)"
   ]
  },
  {
   "cell_type": "code",
   "execution_count": 13,
   "metadata": {},
   "outputs": [
    {
     "data": {
      "text/html": [
       "<div>\n",
       "<style scoped>\n",
       "    .dataframe tbody tr th:only-of-type {\n",
       "        vertical-align: middle;\n",
       "    }\n",
       "\n",
       "    .dataframe tbody tr th {\n",
       "        vertical-align: top;\n",
       "    }\n",
       "\n",
       "    .dataframe thead th {\n",
       "        text-align: right;\n",
       "    }\n",
       "</style>\n",
       "<table border=\"1\" class=\"dataframe\">\n",
       "  <thead>\n",
       "    <tr style=\"text-align: right;\">\n",
       "      <th></th>\n",
       "      <th>doc_id</th>\n",
       "      <th>title</th>\n",
       "    </tr>\n",
       "  </thead>\n",
       "  <tbody>\n",
       "    <tr>\n",
       "      <th>0</th>\n",
       "      <td>6</td>\n",
       "      <td>[заместитель, председатель, правительство, рф,...</td>\n",
       "    </tr>\n",
       "    <tr>\n",
       "      <th>1</th>\n",
       "      <td>4896</td>\n",
       "      <td>[матч, финал, кубок, россия, футбол, приостано...</td>\n",
       "    </tr>\n",
       "    <tr>\n",
       "      <th>2</th>\n",
       "      <td>4897</td>\n",
       "      <td>[форвард, авангард, томаш, заборский, прокомме...</td>\n",
       "    </tr>\n",
       "    <tr>\n",
       "      <th>3</th>\n",
       "      <td>4898</td>\n",
       "      <td>[главный, тренер, кубань, юрий, красножанин, п...</td>\n",
       "    </tr>\n",
       "    <tr>\n",
       "      <th>4</th>\n",
       "      <td>4899</td>\n",
       "      <td>[решение, попечительский, совет, владивостокск...</td>\n",
       "    </tr>\n",
       "  </tbody>\n",
       "</table>\n",
       "</div>"
      ],
      "text/plain": [
       "   doc_id                                              title\n",
       "0       6  [заместитель, председатель, правительство, рф,...\n",
       "1    4896  [матч, финал, кубок, россия, футбол, приостано...\n",
       "2    4897  [форвард, авангард, томаш, заборский, прокомме...\n",
       "3    4898  [главный, тренер, кубань, юрий, красножанин, п...\n",
       "4    4899  [решение, попечительский, совет, владивостокск..."
      ]
     },
     "execution_count": 13,
     "metadata": {},
     "output_type": "execute_result"
    }
   ],
   "source": [
    "news.head()"
   ]
  },
  {
   "cell_type": "code",
   "execution_count": 14,
   "metadata": {},
   "outputs": [],
   "source": [
    "#сформируем список наших текстов, разбив еще и на пробелы\n",
    "texts = [t for t in news['title'].values]\n",
    "\n",
    "# Create a corpus from a list of texts\n",
    "common_dictionary = Dictionary(texts)"
   ]
  },
  {
   "cell_type": "code",
   "execution_count": 15,
   "metadata": {},
   "outputs": [
    {
     "data": {
      "text/plain": [
       "141166"
      ]
     },
     "execution_count": 15,
     "metadata": {},
     "output_type": "execute_result"
    }
   ],
   "source": [
    "len(common_dictionary)"
   ]
  },
  {
   "cell_type": "code",
   "execution_count": 16,
   "metadata": {},
   "outputs": [
    {
     "data": {
      "text/plain": [
       "38456"
      ]
     },
     "execution_count": 16,
     "metadata": {},
     "output_type": "execute_result"
    }
   ],
   "source": [
    "common_dictionary.filter_extremes(no_above=0.2)\n",
    "len(common_dictionary)"
   ]
  },
  {
   "cell_type": "code",
   "execution_count": 17,
   "metadata": {},
   "outputs": [],
   "source": [
    "common_corpus = [common_dictionary.doc2bow(text) for text in texts]"
   ]
  },
  {
   "cell_type": "code",
   "execution_count": 18,
   "metadata": {},
   "outputs": [],
   "source": [
    "NUM_TOPICS = 18"
   ]
  },
  {
   "cell_type": "code",
   "execution_count": 19,
   "metadata": {},
   "outputs": [],
   "source": [
    "from gensim.models import LdaMulticore\n",
    "lda = LdaMulticore(common_corpus, num_topics=NUM_TOPICS, id2word=common_dictionary, random_state=14, passes=25)"
   ]
  },
  {
   "cell_type": "code",
   "execution_count": 20,
   "metadata": {},
   "outputs": [
    {
     "name": "stdout",
     "output_type": "stream",
     "text": [
      "['председатель', 'совет', 'федерация', 'валентина', 'матвиенко', 'член', 'совфеда', 'уличить', 'управление', 'бизнес', 'лишить', 'мандат', 'сенатор', 'интерфакс', 'nn', 'комиссия', 'совет', 'федерация', 'противодействие', 'коррупция', 'течение', 'месяц', 'проверка', 'предмет', 'владение', 'сенатор', 'иной', 'бизнес', 'ход', 'проверка', 'выявить', 'факт', 'управление', 'сенатор', 'бизнес', 'лишить', 'мандат', 'регион', 'чей', 'интерес', 'представлять', 'палата', 'обязать', 'отозвать', 'матвиенко', 'nn', 'последний', 'аналогичный', 'проверка', 'проводиться', 'некоторый', 'депутат', 'госдума', 'сенатор', 'совфеда', 'закон', 'запретить', 'заниматься', 'предпринимательский', 'деятельность', 'прошлый', 'неделя', 'профильный', 'комиссия', 'госдума', 'решить', 'проводить', 'проверка', 'достоверность', 'сведение', 'доход', 'имущество', 'четыре', 'пять', 'депутатовединоросс', 'материал', 'якобы', 'иметься', 'парламентарий', 'бизнес', 'предоставить', 'лидер', 'думский', 'фракция', 'эсер', 'сергей', 'миронов', 'обращение', 'миронов', 'ответ', 'кампания', 'против', 'геннадий', 'гудков', 'лишить', 'мандат', 'якобы', 'вести', 'предпринимательский', 'деятельность', 'эсер', 'решить', 'доказать', 'управление', 'бизнес', 'причастный', 'многие', 'депутат', 'член', 'единый', 'россия']\n"
     ]
    },
    {
     "data": {
      "text/plain": [
       "[(8, 0.99116945)]"
      ]
     },
     "execution_count": 20,
     "metadata": {},
     "output_type": "execute_result"
    }
   ],
   "source": [
    "# Create a new corpus, made of previously unseen documents.\n",
    "other_texts = [t for t in news['title'].iloc[3000:3005]]\n",
    "other_corpus = [common_dictionary.doc2bow(text) for text in other_texts]\n",
    "\n",
    "unseen_doc = other_corpus[2]\n",
    "print(other_texts[2])\n",
    "lda[unseen_doc] "
   ]
  },
  {
   "cell_type": "code",
   "execution_count": 21,
   "metadata": {},
   "outputs": [
    {
     "name": "stdout",
     "output_type": "stream",
     "text": [
      "topic_0: самолёт военный сирия сила американский ракета оружие оборона ядерный сирийский боевой система нато вооружение территория\n",
      "topic_1: наука научный ран технология проект развитие институт путин очень академия форум проблема учёный уголь университет\n",
      "topic_2: исследование мозг ребёнок исследователь женщина заболевание риск учёный рак врач пациент случай болезнь развитие жизнь\n",
      "topic_3: россиянин рост доход тыс население уровень рубль пенсия зарплата составить цена руб вырасти эксперт млн\n",
      "topic_4: ракета космический спутник аппарат запуск миссия орбита луна космос nasa полёт земля пуск корабль роскосмос\n",
      "topic_5: учёный земля исследование планета исследователь животное солнечный обнаружить луна звезда солнце система университет объект поверхность\n",
      "topic_6: турист турция греция температура регион мс турецкий погода туристический туризм °с курорт аэропорт тыс ветер\n",
      "topic_7: музей фильм команда хороший век матч культура игра фестиваль найти сайт археолог памятник мир клуб\n",
      "topic_8: украина совет министр депутат владимир украинский авиакомпания пост директор закон порошенко право акция госдума государственный\n",
      "topic_9: самолёт полёт произойти экипаж причина станция взрыв авария корабль двигатель nnn погибнуть союз пассажир борт\n",
      "topic_10: советский ссср власть война правительство военный ленин народ совет республика политический против сталин партия лидер\n",
      "topic_11: санкция трамп американский китай рынок проект млрд ес европа против продукция экономический европейский дональд поставка\n",
      "topic_12: иск система рубль роскосмос уголовный банк информация млн роснефть деньга клиент средство сумма арест сотрудник\n",
      "topic_13: правительство бюджет проект фонд регион программа руб система млрд федеральный бизнес налоговый средство налог развитие\n",
      "topic_14: банк рубль рынок рост нефть цена млрд ставка эксперт цб доллар экономика уровень валюта руб\n",
      "topic_15: украина газ украинский газпром млрд белоруссия поставка крым млн киев цена поток европа газовый белорусский\n",
      "topic_16: ребёнок женщина убийство мужчина летний дом семья сотрудник смерть произойти жизнь уголовный преступление школа область\n",
      "topic_17: война армия войско русский военный советский корабль немецкий генерал фронт бой солдат германия красный противник\n"
     ]
    }
   ],
   "source": [
    "x=lda.show_topics(num_words=15, num_topics=NUM_TOPICS,formatted=False)# num_words=15,formatted=False)\n",
    "topics_words = [(tp[0], [wd[0] for wd in tp[1]]) for tp in x]\n",
    "\n",
    "#Below Code Prints Only Words \n",
    "for topic, words in topics_words:\n",
    "    print(\"topic_{}: \".format(topic)+\" \".join(words))"
   ]
  },
  {
   "cell_type": "code",
   "execution_count": 22,
   "metadata": {},
   "outputs": [],
   "source": [
    "def get_lda_vector(text):\n",
    "    unseen_doc = common_dictionary.doc2bow(text)\n",
    "    lda_tuple = lda[unseen_doc]\n",
    "    not_null_topics = dict(zip([i[0] for i in lda_tuple], [i[1] for i in lda_tuple]))\n",
    "\n",
    "    output_vector = []\n",
    "    for i in range(NUM_TOPICS):\n",
    "        if i not in not_null_topics:\n",
    "            output_vector.append(0)\n",
    "        else:\n",
    "            output_vector.append(not_null_topics[i])\n",
    "    return np.array(output_vector)"
   ]
  },
  {
   "cell_type": "code",
   "execution_count": 23,
   "metadata": {},
   "outputs": [
    {
     "data": {
      "text/html": [
       "<div>\n",
       "<style scoped>\n",
       "    .dataframe tbody tr th:only-of-type {\n",
       "        vertical-align: middle;\n",
       "    }\n",
       "\n",
       "    .dataframe tbody tr th {\n",
       "        vertical-align: top;\n",
       "    }\n",
       "\n",
       "    .dataframe thead th {\n",
       "        text-align: right;\n",
       "    }\n",
       "</style>\n",
       "<table border=\"1\" class=\"dataframe\">\n",
       "  <thead>\n",
       "    <tr style=\"text-align: right;\">\n",
       "      <th></th>\n",
       "      <th>doc_id</th>\n",
       "      <th>topic_0</th>\n",
       "      <th>topic_1</th>\n",
       "      <th>topic_2</th>\n",
       "      <th>topic_3</th>\n",
       "      <th>topic_4</th>\n",
       "      <th>topic_5</th>\n",
       "      <th>topic_6</th>\n",
       "      <th>topic_7</th>\n",
       "      <th>topic_8</th>\n",
       "      <th>topic_9</th>\n",
       "      <th>topic_10</th>\n",
       "      <th>topic_11</th>\n",
       "      <th>topic_12</th>\n",
       "      <th>topic_13</th>\n",
       "      <th>topic_14</th>\n",
       "      <th>topic_15</th>\n",
       "      <th>topic_16</th>\n",
       "      <th>topic_17</th>\n",
       "    </tr>\n",
       "  </thead>\n",
       "  <tbody>\n",
       "    <tr>\n",
       "      <th>0</th>\n",
       "      <td>6</td>\n",
       "      <td>0.0</td>\n",
       "      <td>0.000000</td>\n",
       "      <td>0.0</td>\n",
       "      <td>0.000000</td>\n",
       "      <td>0.044549</td>\n",
       "      <td>0.000000</td>\n",
       "      <td>0.0</td>\n",
       "      <td>0.151179</td>\n",
       "      <td>0.67677</td>\n",
       "      <td>0.000000</td>\n",
       "      <td>0.000000</td>\n",
       "      <td>0.000000</td>\n",
       "      <td>0.0</td>\n",
       "      <td>0.000000</td>\n",
       "      <td>0.097253</td>\n",
       "      <td>0.0</td>\n",
       "      <td>0.000000</td>\n",
       "      <td>0.023413</td>\n",
       "    </tr>\n",
       "    <tr>\n",
       "      <th>1</th>\n",
       "      <td>4896</td>\n",
       "      <td>0.0</td>\n",
       "      <td>0.000000</td>\n",
       "      <td>0.0</td>\n",
       "      <td>0.000000</td>\n",
       "      <td>0.000000</td>\n",
       "      <td>0.000000</td>\n",
       "      <td>0.0</td>\n",
       "      <td>0.614395</td>\n",
       "      <td>0.00000</td>\n",
       "      <td>0.298852</td>\n",
       "      <td>0.000000</td>\n",
       "      <td>0.000000</td>\n",
       "      <td>0.0</td>\n",
       "      <td>0.000000</td>\n",
       "      <td>0.000000</td>\n",
       "      <td>0.0</td>\n",
       "      <td>0.062853</td>\n",
       "      <td>0.000000</td>\n",
       "    </tr>\n",
       "    <tr>\n",
       "      <th>2</th>\n",
       "      <td>4897</td>\n",
       "      <td>0.0</td>\n",
       "      <td>0.063683</td>\n",
       "      <td>0.0</td>\n",
       "      <td>0.000000</td>\n",
       "      <td>0.060988</td>\n",
       "      <td>0.000000</td>\n",
       "      <td>0.0</td>\n",
       "      <td>0.804207</td>\n",
       "      <td>0.00000</td>\n",
       "      <td>0.000000</td>\n",
       "      <td>0.000000</td>\n",
       "      <td>0.000000</td>\n",
       "      <td>0.0</td>\n",
       "      <td>0.000000</td>\n",
       "      <td>0.050034</td>\n",
       "      <td>0.0</td>\n",
       "      <td>0.000000</td>\n",
       "      <td>0.000000</td>\n",
       "    </tr>\n",
       "    <tr>\n",
       "      <th>3</th>\n",
       "      <td>4898</td>\n",
       "      <td>0.0</td>\n",
       "      <td>0.000000</td>\n",
       "      <td>0.0</td>\n",
       "      <td>0.052199</td>\n",
       "      <td>0.000000</td>\n",
       "      <td>0.011659</td>\n",
       "      <td>0.0</td>\n",
       "      <td>0.615397</td>\n",
       "      <td>0.00000</td>\n",
       "      <td>0.000000</td>\n",
       "      <td>0.238435</td>\n",
       "      <td>0.072424</td>\n",
       "      <td>0.0</td>\n",
       "      <td>0.000000</td>\n",
       "      <td>0.000000</td>\n",
       "      <td>0.0</td>\n",
       "      <td>0.000000</td>\n",
       "      <td>0.000000</td>\n",
       "    </tr>\n",
       "    <tr>\n",
       "      <th>4</th>\n",
       "      <td>4899</td>\n",
       "      <td>0.0</td>\n",
       "      <td>0.157359</td>\n",
       "      <td>0.0</td>\n",
       "      <td>0.000000</td>\n",
       "      <td>0.000000</td>\n",
       "      <td>0.000000</td>\n",
       "      <td>0.0</td>\n",
       "      <td>0.182241</td>\n",
       "      <td>0.58918</td>\n",
       "      <td>0.000000</td>\n",
       "      <td>0.000000</td>\n",
       "      <td>0.000000</td>\n",
       "      <td>0.0</td>\n",
       "      <td>0.048075</td>\n",
       "      <td>0.000000</td>\n",
       "      <td>0.0</td>\n",
       "      <td>0.000000</td>\n",
       "      <td>0.000000</td>\n",
       "    </tr>\n",
       "  </tbody>\n",
       "</table>\n",
       "</div>"
      ],
      "text/plain": [
       "   doc_id  topic_0   topic_1  topic_2   topic_3   topic_4   topic_5  topic_6  \\\n",
       "0       6      0.0  0.000000      0.0  0.000000  0.044549  0.000000      0.0   \n",
       "1    4896      0.0  0.000000      0.0  0.000000  0.000000  0.000000      0.0   \n",
       "2    4897      0.0  0.063683      0.0  0.000000  0.060988  0.000000      0.0   \n",
       "3    4898      0.0  0.000000      0.0  0.052199  0.000000  0.011659      0.0   \n",
       "4    4899      0.0  0.157359      0.0  0.000000  0.000000  0.000000      0.0   \n",
       "\n",
       "    topic_7  topic_8   topic_9  topic_10  topic_11  topic_12  topic_13  \\\n",
       "0  0.151179  0.67677  0.000000  0.000000  0.000000       0.0  0.000000   \n",
       "1  0.614395  0.00000  0.298852  0.000000  0.000000       0.0  0.000000   \n",
       "2  0.804207  0.00000  0.000000  0.000000  0.000000       0.0  0.000000   \n",
       "3  0.615397  0.00000  0.000000  0.238435  0.072424       0.0  0.000000   \n",
       "4  0.182241  0.58918  0.000000  0.000000  0.000000       0.0  0.048075   \n",
       "\n",
       "   topic_14  topic_15  topic_16  topic_17  \n",
       "0  0.097253       0.0  0.000000  0.023413  \n",
       "1  0.000000       0.0  0.062853  0.000000  \n",
       "2  0.050034       0.0  0.000000  0.000000  \n",
       "3  0.000000       0.0  0.000000  0.000000  \n",
       "4  0.000000       0.0  0.000000  0.000000  "
      ]
     },
     "execution_count": 23,
     "metadata": {},
     "output_type": "execute_result"
    }
   ],
   "source": [
    "topic_matrix = pd.DataFrame([get_lda_vector(text) for text in news['title'].values])\n",
    "topic_matrix.columns = ['topic_{}'.format(i) for i in range(NUM_TOPICS)]\n",
    "topic_matrix['doc_id'] = news['doc_id'].values\n",
    "topic_matrix = topic_matrix[['doc_id']+['topic_{}'.format(i) for i in range(NUM_TOPICS)]]\n",
    "topic_matrix.head(5)"
   ]
  },
  {
   "cell_type": "code",
   "execution_count": 24,
   "metadata": {},
   "outputs": [
    {
     "data": {
      "text/html": [
       "<div>\n",
       "<style scoped>\n",
       "    .dataframe tbody tr th:only-of-type {\n",
       "        vertical-align: middle;\n",
       "    }\n",
       "\n",
       "    .dataframe tbody tr th {\n",
       "        vertical-align: top;\n",
       "    }\n",
       "\n",
       "    .dataframe thead th {\n",
       "        text-align: right;\n",
       "    }\n",
       "</style>\n",
       "<table border=\"1\" class=\"dataframe\">\n",
       "  <thead>\n",
       "    <tr style=\"text-align: right;\">\n",
       "      <th></th>\n",
       "      <th>uid</th>\n",
       "      <th>articles</th>\n",
       "    </tr>\n",
       "  </thead>\n",
       "  <tbody>\n",
       "    <tr>\n",
       "      <th>0</th>\n",
       "      <td>u105138</td>\n",
       "      <td>[293672, 293328, 293001, 293622, 293126, 1852]</td>\n",
       "    </tr>\n",
       "    <tr>\n",
       "      <th>1</th>\n",
       "      <td>u108690</td>\n",
       "      <td>[3405, 1739, 2972, 1158, 1599, 322665]</td>\n",
       "    </tr>\n",
       "    <tr>\n",
       "      <th>2</th>\n",
       "      <td>u108339</td>\n",
       "      <td>[1845, 2009, 2356, 1424, 2939, 323389]</td>\n",
       "    </tr>\n",
       "  </tbody>\n",
       "</table>\n",
       "</div>"
      ],
      "text/plain": [
       "       uid                                        articles\n",
       "0  u105138  [293672, 293328, 293001, 293622, 293126, 1852]\n",
       "1  u108690          [3405, 1739, 2972, 1158, 1599, 322665]\n",
       "2  u108339          [1845, 2009, 2356, 1424, 2939, 323389]"
      ]
     },
     "execution_count": 24,
     "metadata": {},
     "output_type": "execute_result"
    }
   ],
   "source": [
    "users.head(3)"
   ]
  },
  {
   "cell_type": "code",
   "execution_count": 25,
   "metadata": {},
   "outputs": [],
   "source": [
    "class MyTfidf:\n",
    "    def __init__(self):\n",
    "        self.idf = {}\n",
    "        \n",
    "    def fit(self, users):\n",
    "        #создаем словарь и считаем частоты по статьям\n",
    "        for user in users:\n",
    "            for article in user:\n",
    "                if article in self.idf.keys():\n",
    "                    self.idf[article] += 1\n",
    "                else:\n",
    "                    self.idf[article] = 1\n",
    "        #общее количество статей\n",
    "        counts = np.sum([i for i in self.idf.values()])\n",
    "        \n",
    "        #считаем сам IDF\n",
    "        for key in self.idf.keys():\n",
    "            self.idf[key] = np.log(self.idf[key] / counts)\n",
    "        \n",
    "        #и нормализуем его на интервал от 1 до 2\n",
    "        _tmp = np.array([i for i in self.idf.values()])\n",
    "        _min = np.min(_tmp)\n",
    "        _max_min = np.max(_tmp) - np.min(_tmp)\n",
    "        \n",
    "        for key in self.idf.keys():\n",
    "            self.idf[key] = (self.idf[key] - _min) / _max_min + 1\n",
    "            \n",
    "    def idf_num(self, article):\n",
    "        return self.idf[article]\n",
    "            "
   ]
  },
  {
   "cell_type": "code",
   "execution_count": 26,
   "metadata": {},
   "outputs": [
    {
     "data": {
      "text/plain": [
       "1.4893010842364522"
      ]
     },
     "execution_count": 26,
     "metadata": {},
     "output_type": "execute_result"
    }
   ],
   "source": [
    "idf = MyTfidf()\n",
    "idf.fit([eval(i) for i in users['articles']])\n",
    "\n",
    "idf.idf_num(995)"
   ]
  },
  {
   "cell_type": "code",
   "execution_count": 27,
   "metadata": {},
   "outputs": [],
   "source": [
    "doc_dict = dict(zip(topic_matrix['doc_id'].values, topic_matrix[['topic_{}'.format(i) for i in range(NUM_TOPICS)]].values))"
   ]
  },
  {
   "cell_type": "code",
   "execution_count": 28,
   "metadata": {},
   "outputs": [
    {
     "data": {
      "text/plain": [
       "array([0.        , 0.        , 0.        , 0.        , 0.        ,\n",
       "       0.        , 0.        , 0.55100548, 0.17245527, 0.        ,\n",
       "       0.        , 0.        , 0.        , 0.        , 0.        ,\n",
       "       0.        , 0.26644716, 0.        ])"
      ]
     },
     "execution_count": 28,
     "metadata": {},
     "output_type": "execute_result"
    }
   ],
   "source": [
    "doc_dict[293622]"
   ]
  },
  {
   "cell_type": "code",
   "execution_count": 29,
   "metadata": {},
   "outputs": [],
   "source": [
    "def get_user_embedding(user_articles_list):\n",
    "    user_articles_list = eval(user_articles_list)\n",
    "    user_vector = np.array([doc_dict[doc_id] for doc_id in user_articles_list])\n",
    "    user_vector = np.mean(user_vector, 0)\n",
    "    return user_vector"
   ]
  },
  {
   "cell_type": "code",
   "execution_count": 30,
   "metadata": {},
   "outputs": [],
   "source": [
    "def get_user_embedding_median(user_articles_list):\n",
    "    user_articles_list = eval(user_articles_list)\n",
    "    user_vector = np.array([doc_dict[doc_id] for doc_id in user_articles_list])\n",
    "    user_vector = np.median(user_vector, 0)\n",
    "    return user_vector"
   ]
  },
  {
   "cell_type": "code",
   "execution_count": 31,
   "metadata": {},
   "outputs": [],
   "source": [
    "def get_user_embedding_max(user_articles_list):\n",
    "    user_articles_list = eval(user_articles_list)\n",
    "    user_vector = np.array([doc_dict[doc_id] for doc_id in user_articles_list])\n",
    "    user_vector = np.max(user_vector, 0)\n",
    "    return user_vector"
   ]
  },
  {
   "cell_type": "code",
   "execution_count": 32,
   "metadata": {},
   "outputs": [],
   "source": [
    "def get_user_embedding_tfidf(user_articles_list):\n",
    "    user_articles_list = eval(user_articles_list)\n",
    "    user_vector = np.array([doc_dict[doc_id] for doc_id in user_articles_list])\n",
    "    idf_weights = np.array([idf.idf_num(article) for article in user_articles_list])\n",
    "    user_vector = user_vector.T.dot(idf_weights / idf_weights.sum()).T\n",
    "    return user_vector"
   ]
  },
  {
   "cell_type": "code",
   "execution_count": 33,
   "metadata": {},
   "outputs": [],
   "source": [
    "def make_dataset(func):\n",
    "    dataset = pd.DataFrame([i for i in users['articles'].apply(lambda x: func(x), 1)])\n",
    "    dataset.columns = ['topic_{}'.format(i) for i in range(NUM_TOPICS)]\n",
    "    dataset['uid'] = users['uid'].values\n",
    "    dataset = dataset[['uid']+['topic_{}'.format(i) for i in range(NUM_TOPICS)]]\n",
    "    return dataset\n",
    "    "
   ]
  },
  {
   "cell_type": "code",
   "execution_count": 34,
   "metadata": {},
   "outputs": [
    {
     "data": {
      "text/plain": [
       "4"
      ]
     },
     "execution_count": 34,
     "metadata": {},
     "output_type": "execute_result"
    }
   ],
   "source": [
    "func_list = [get_user_embedding, get_user_embedding_median, get_user_embedding_max, get_user_embedding_tfidf]\n",
    "\n",
    "datasets = []\n",
    "\n",
    "for func in func_list:\n",
    "    datasets.append(make_dataset(func))\n",
    "    \n",
    "len(datasets)"
   ]
  },
  {
   "cell_type": "code",
   "execution_count": 35,
   "metadata": {},
   "outputs": [
    {
     "data": {
      "text/html": [
       "<div>\n",
       "<style scoped>\n",
       "    .dataframe tbody tr th:only-of-type {\n",
       "        vertical-align: middle;\n",
       "    }\n",
       "\n",
       "    .dataframe tbody tr th {\n",
       "        vertical-align: top;\n",
       "    }\n",
       "\n",
       "    .dataframe thead th {\n",
       "        text-align: right;\n",
       "    }\n",
       "</style>\n",
       "<table border=\"1\" class=\"dataframe\">\n",
       "  <thead>\n",
       "    <tr style=\"text-align: right;\">\n",
       "      <th></th>\n",
       "      <th>uid</th>\n",
       "      <th>topic_0</th>\n",
       "      <th>topic_1</th>\n",
       "      <th>topic_2</th>\n",
       "      <th>topic_3</th>\n",
       "      <th>topic_4</th>\n",
       "      <th>topic_5</th>\n",
       "      <th>topic_6</th>\n",
       "      <th>topic_7</th>\n",
       "      <th>topic_8</th>\n",
       "      <th>topic_9</th>\n",
       "      <th>topic_10</th>\n",
       "      <th>topic_11</th>\n",
       "      <th>topic_12</th>\n",
       "      <th>topic_13</th>\n",
       "      <th>topic_14</th>\n",
       "      <th>topic_15</th>\n",
       "      <th>topic_16</th>\n",
       "      <th>topic_17</th>\n",
       "    </tr>\n",
       "  </thead>\n",
       "  <tbody>\n",
       "    <tr>\n",
       "      <th>0</th>\n",
       "      <td>u105138</td>\n",
       "      <td>0.040009</td>\n",
       "      <td>0.000000</td>\n",
       "      <td>0.003768</td>\n",
       "      <td>0.014268</td>\n",
       "      <td>0.000000</td>\n",
       "      <td>0.000000</td>\n",
       "      <td>0.000000</td>\n",
       "      <td>0.383435</td>\n",
       "      <td>0.175927</td>\n",
       "      <td>0.070567</td>\n",
       "      <td>0.103164</td>\n",
       "      <td>0.000000</td>\n",
       "      <td>0.000000</td>\n",
       "      <td>0.021434</td>\n",
       "      <td>0.000000</td>\n",
       "      <td>0.000000</td>\n",
       "      <td>0.148880</td>\n",
       "      <td>0.020595</td>\n",
       "    </tr>\n",
       "    <tr>\n",
       "      <th>1</th>\n",
       "      <td>u108690</td>\n",
       "      <td>0.024249</td>\n",
       "      <td>0.036794</td>\n",
       "      <td>0.086687</td>\n",
       "      <td>0.060332</td>\n",
       "      <td>0.000000</td>\n",
       "      <td>0.002242</td>\n",
       "      <td>0.000000</td>\n",
       "      <td>0.051306</td>\n",
       "      <td>0.177304</td>\n",
       "      <td>0.021310</td>\n",
       "      <td>0.113256</td>\n",
       "      <td>0.165869</td>\n",
       "      <td>0.005494</td>\n",
       "      <td>0.024447</td>\n",
       "      <td>0.001680</td>\n",
       "      <td>0.038849</td>\n",
       "      <td>0.183209</td>\n",
       "      <td>0.002641</td>\n",
       "    </tr>\n",
       "    <tr>\n",
       "      <th>2</th>\n",
       "      <td>u108339</td>\n",
       "      <td>0.031248</td>\n",
       "      <td>0.000000</td>\n",
       "      <td>0.011762</td>\n",
       "      <td>0.003300</td>\n",
       "      <td>0.000000</td>\n",
       "      <td>0.001991</td>\n",
       "      <td>0.120101</td>\n",
       "      <td>0.016930</td>\n",
       "      <td>0.152762</td>\n",
       "      <td>0.174697</td>\n",
       "      <td>0.207053</td>\n",
       "      <td>0.012335</td>\n",
       "      <td>0.083330</td>\n",
       "      <td>0.000000</td>\n",
       "      <td>0.000000</td>\n",
       "      <td>0.026851</td>\n",
       "      <td>0.153834</td>\n",
       "      <td>0.000000</td>\n",
       "    </tr>\n",
       "    <tr>\n",
       "      <th>3</th>\n",
       "      <td>u101138</td>\n",
       "      <td>0.039813</td>\n",
       "      <td>0.053015</td>\n",
       "      <td>0.005197</td>\n",
       "      <td>0.032921</td>\n",
       "      <td>0.004166</td>\n",
       "      <td>0.095788</td>\n",
       "      <td>0.000000</td>\n",
       "      <td>0.355651</td>\n",
       "      <td>0.000000</td>\n",
       "      <td>0.026614</td>\n",
       "      <td>0.139811</td>\n",
       "      <td>0.010851</td>\n",
       "      <td>0.158435</td>\n",
       "      <td>0.000000</td>\n",
       "      <td>0.002695</td>\n",
       "      <td>0.030891</td>\n",
       "      <td>0.032433</td>\n",
       "      <td>0.000000</td>\n",
       "    </tr>\n",
       "    <tr>\n",
       "      <th>4</th>\n",
       "      <td>u108248</td>\n",
       "      <td>0.000000</td>\n",
       "      <td>0.003582</td>\n",
       "      <td>0.099059</td>\n",
       "      <td>0.004325</td>\n",
       "      <td>0.000000</td>\n",
       "      <td>0.051986</td>\n",
       "      <td>0.163902</td>\n",
       "      <td>0.043795</td>\n",
       "      <td>0.207336</td>\n",
       "      <td>0.000000</td>\n",
       "      <td>0.113426</td>\n",
       "      <td>0.029485</td>\n",
       "      <td>0.009735</td>\n",
       "      <td>0.007338</td>\n",
       "      <td>0.000000</td>\n",
       "      <td>0.043114</td>\n",
       "      <td>0.206074</td>\n",
       "      <td>0.012366</td>\n",
       "    </tr>\n",
       "  </tbody>\n",
       "</table>\n",
       "</div>"
      ],
      "text/plain": [
       "       uid   topic_0   topic_1   topic_2   topic_3   topic_4   topic_5  \\\n",
       "0  u105138  0.040009  0.000000  0.003768  0.014268  0.000000  0.000000   \n",
       "1  u108690  0.024249  0.036794  0.086687  0.060332  0.000000  0.002242   \n",
       "2  u108339  0.031248  0.000000  0.011762  0.003300  0.000000  0.001991   \n",
       "3  u101138  0.039813  0.053015  0.005197  0.032921  0.004166  0.095788   \n",
       "4  u108248  0.000000  0.003582  0.099059  0.004325  0.000000  0.051986   \n",
       "\n",
       "    topic_6   topic_7   topic_8   topic_9  topic_10  topic_11  topic_12  \\\n",
       "0  0.000000  0.383435  0.175927  0.070567  0.103164  0.000000  0.000000   \n",
       "1  0.000000  0.051306  0.177304  0.021310  0.113256  0.165869  0.005494   \n",
       "2  0.120101  0.016930  0.152762  0.174697  0.207053  0.012335  0.083330   \n",
       "3  0.000000  0.355651  0.000000  0.026614  0.139811  0.010851  0.158435   \n",
       "4  0.163902  0.043795  0.207336  0.000000  0.113426  0.029485  0.009735   \n",
       "\n",
       "   topic_13  topic_14  topic_15  topic_16  topic_17  \n",
       "0  0.021434  0.000000  0.000000  0.148880  0.020595  \n",
       "1  0.024447  0.001680  0.038849  0.183209  0.002641  \n",
       "2  0.000000  0.000000  0.026851  0.153834  0.000000  \n",
       "3  0.000000  0.002695  0.030891  0.032433  0.000000  \n",
       "4  0.007338  0.000000  0.043114  0.206074  0.012366  "
      ]
     },
     "execution_count": 35,
     "metadata": {},
     "output_type": "execute_result"
    }
   ],
   "source": [
    "datasets[0].head()"
   ]
  },
  {
   "cell_type": "code",
   "execution_count": 36,
   "metadata": {},
   "outputs": [
    {
     "data": {
      "text/html": [
       "<div>\n",
       "<style scoped>\n",
       "    .dataframe tbody tr th:only-of-type {\n",
       "        vertical-align: middle;\n",
       "    }\n",
       "\n",
       "    .dataframe tbody tr th {\n",
       "        vertical-align: top;\n",
       "    }\n",
       "\n",
       "    .dataframe thead th {\n",
       "        text-align: right;\n",
       "    }\n",
       "</style>\n",
       "<table border=\"1\" class=\"dataframe\">\n",
       "  <thead>\n",
       "    <tr style=\"text-align: right;\">\n",
       "      <th></th>\n",
       "      <th>uid</th>\n",
       "      <th>churn</th>\n",
       "    </tr>\n",
       "  </thead>\n",
       "  <tbody>\n",
       "    <tr>\n",
       "      <th>0</th>\n",
       "      <td>u107120</td>\n",
       "      <td>0</td>\n",
       "    </tr>\n",
       "    <tr>\n",
       "      <th>1</th>\n",
       "      <td>u102277</td>\n",
       "      <td>0</td>\n",
       "    </tr>\n",
       "    <tr>\n",
       "      <th>2</th>\n",
       "      <td>u102444</td>\n",
       "      <td>0</td>\n",
       "    </tr>\n",
       "  </tbody>\n",
       "</table>\n",
       "</div>"
      ],
      "text/plain": [
       "       uid  churn\n",
       "0  u107120      0\n",
       "1  u102277      0\n",
       "2  u102444      0"
      ]
     },
     "execution_count": 36,
     "metadata": {},
     "output_type": "execute_result"
    }
   ],
   "source": [
    "target = pd.read_csv(\"users_churn.csv\")\n",
    "target.head(3)"
   ]
  },
  {
   "cell_type": "code",
   "execution_count": 37,
   "metadata": {},
   "outputs": [
    {
     "data": {
      "text/html": [
       "<div>\n",
       "<style scoped>\n",
       "    .dataframe tbody tr th:only-of-type {\n",
       "        vertical-align: middle;\n",
       "    }\n",
       "\n",
       "    .dataframe tbody tr th {\n",
       "        vertical-align: top;\n",
       "    }\n",
       "\n",
       "    .dataframe thead th {\n",
       "        text-align: right;\n",
       "    }\n",
       "</style>\n",
       "<table border=\"1\" class=\"dataframe\">\n",
       "  <thead>\n",
       "    <tr style=\"text-align: right;\">\n",
       "      <th></th>\n",
       "      <th>uid</th>\n",
       "      <th>topic_0</th>\n",
       "      <th>topic_1</th>\n",
       "      <th>topic_2</th>\n",
       "      <th>topic_3</th>\n",
       "      <th>topic_4</th>\n",
       "      <th>topic_5</th>\n",
       "      <th>topic_6</th>\n",
       "      <th>topic_7</th>\n",
       "      <th>topic_8</th>\n",
       "      <th>topic_9</th>\n",
       "      <th>topic_10</th>\n",
       "      <th>topic_11</th>\n",
       "      <th>topic_12</th>\n",
       "      <th>topic_13</th>\n",
       "      <th>topic_14</th>\n",
       "      <th>topic_15</th>\n",
       "      <th>topic_16</th>\n",
       "      <th>topic_17</th>\n",
       "      <th>churn</th>\n",
       "    </tr>\n",
       "  </thead>\n",
       "  <tbody>\n",
       "    <tr>\n",
       "      <th>0</th>\n",
       "      <td>u105138</td>\n",
       "      <td>0.043763</td>\n",
       "      <td>0.000000</td>\n",
       "      <td>0.003817</td>\n",
       "      <td>0.014452</td>\n",
       "      <td>0.000000</td>\n",
       "      <td>0.000000</td>\n",
       "      <td>0.000000</td>\n",
       "      <td>0.372252</td>\n",
       "      <td>0.175775</td>\n",
       "      <td>0.071476</td>\n",
       "      <td>0.114397</td>\n",
       "      <td>0.000000</td>\n",
       "      <td>0.000000</td>\n",
       "      <td>0.021710</td>\n",
       "      <td>0.000000</td>\n",
       "      <td>0.000000</td>\n",
       "      <td>0.140409</td>\n",
       "      <td>0.023571</td>\n",
       "      <td>0</td>\n",
       "    </tr>\n",
       "    <tr>\n",
       "      <th>1</th>\n",
       "      <td>u108690</td>\n",
       "      <td>0.027665</td>\n",
       "      <td>0.033114</td>\n",
       "      <td>0.099715</td>\n",
       "      <td>0.060919</td>\n",
       "      <td>0.000000</td>\n",
       "      <td>0.002047</td>\n",
       "      <td>0.000000</td>\n",
       "      <td>0.046845</td>\n",
       "      <td>0.157591</td>\n",
       "      <td>0.015632</td>\n",
       "      <td>0.100209</td>\n",
       "      <td>0.199641</td>\n",
       "      <td>0.005593</td>\n",
       "      <td>0.028122</td>\n",
       "      <td>0.001710</td>\n",
       "      <td>0.028499</td>\n",
       "      <td>0.185765</td>\n",
       "      <td>0.002411</td>\n",
       "      <td>1</td>\n",
       "    </tr>\n",
       "    <tr>\n",
       "      <th>2</th>\n",
       "      <td>u108339</td>\n",
       "      <td>0.031549</td>\n",
       "      <td>0.000000</td>\n",
       "      <td>0.014116</td>\n",
       "      <td>0.003170</td>\n",
       "      <td>0.000000</td>\n",
       "      <td>0.002052</td>\n",
       "      <td>0.126164</td>\n",
       "      <td>0.020319</td>\n",
       "      <td>0.166743</td>\n",
       "      <td>0.140377</td>\n",
       "      <td>0.224111</td>\n",
       "      <td>0.012715</td>\n",
       "      <td>0.085901</td>\n",
       "      <td>0.000000</td>\n",
       "      <td>0.000000</td>\n",
       "      <td>0.027679</td>\n",
       "      <td>0.141023</td>\n",
       "      <td>0.000000</td>\n",
       "      <td>1</td>\n",
       "    </tr>\n",
       "    <tr>\n",
       "      <th>3</th>\n",
       "      <td>u101138</td>\n",
       "      <td>0.040672</td>\n",
       "      <td>0.050466</td>\n",
       "      <td>0.005590</td>\n",
       "      <td>0.032454</td>\n",
       "      <td>0.004256</td>\n",
       "      <td>0.097855</td>\n",
       "      <td>0.000000</td>\n",
       "      <td>0.347203</td>\n",
       "      <td>0.000000</td>\n",
       "      <td>0.027188</td>\n",
       "      <td>0.144717</td>\n",
       "      <td>0.009264</td>\n",
       "      <td>0.161761</td>\n",
       "      <td>0.000000</td>\n",
       "      <td>0.002565</td>\n",
       "      <td>0.032544</td>\n",
       "      <td>0.031700</td>\n",
       "      <td>0.000000</td>\n",
       "      <td>0</td>\n",
       "    </tr>\n",
       "    <tr>\n",
       "      <th>4</th>\n",
       "      <td>u108248</td>\n",
       "      <td>0.000000</td>\n",
       "      <td>0.003480</td>\n",
       "      <td>0.102498</td>\n",
       "      <td>0.003914</td>\n",
       "      <td>0.000000</td>\n",
       "      <td>0.051669</td>\n",
       "      <td>0.159209</td>\n",
       "      <td>0.046460</td>\n",
       "      <td>0.213612</td>\n",
       "      <td>0.000000</td>\n",
       "      <td>0.113839</td>\n",
       "      <td>0.028227</td>\n",
       "      <td>0.009956</td>\n",
       "      <td>0.007505</td>\n",
       "      <td>0.000000</td>\n",
       "      <td>0.041879</td>\n",
       "      <td>0.200469</td>\n",
       "      <td>0.012647</td>\n",
       "      <td>1</td>\n",
       "    </tr>\n",
       "  </tbody>\n",
       "</table>\n",
       "</div>"
      ],
      "text/plain": [
       "       uid   topic_0   topic_1   topic_2   topic_3   topic_4   topic_5  \\\n",
       "0  u105138  0.043763  0.000000  0.003817  0.014452  0.000000  0.000000   \n",
       "1  u108690  0.027665  0.033114  0.099715  0.060919  0.000000  0.002047   \n",
       "2  u108339  0.031549  0.000000  0.014116  0.003170  0.000000  0.002052   \n",
       "3  u101138  0.040672  0.050466  0.005590  0.032454  0.004256  0.097855   \n",
       "4  u108248  0.000000  0.003480  0.102498  0.003914  0.000000  0.051669   \n",
       "\n",
       "    topic_6   topic_7   topic_8   topic_9  topic_10  topic_11  topic_12  \\\n",
       "0  0.000000  0.372252  0.175775  0.071476  0.114397  0.000000  0.000000   \n",
       "1  0.000000  0.046845  0.157591  0.015632  0.100209  0.199641  0.005593   \n",
       "2  0.126164  0.020319  0.166743  0.140377  0.224111  0.012715  0.085901   \n",
       "3  0.000000  0.347203  0.000000  0.027188  0.144717  0.009264  0.161761   \n",
       "4  0.159209  0.046460  0.213612  0.000000  0.113839  0.028227  0.009956   \n",
       "\n",
       "   topic_13  topic_14  topic_15  topic_16  topic_17  churn  \n",
       "0  0.021710  0.000000  0.000000  0.140409  0.023571      0  \n",
       "1  0.028122  0.001710  0.028499  0.185765  0.002411      1  \n",
       "2  0.000000  0.000000  0.027679  0.141023  0.000000      1  \n",
       "3  0.000000  0.002565  0.032544  0.031700  0.000000      0  \n",
       "4  0.007505  0.000000  0.041879  0.200469  0.012647      1  "
      ]
     },
     "execution_count": 37,
     "metadata": {},
     "output_type": "execute_result"
    }
   ],
   "source": [
    "for i in range(len(datasets)):\n",
    "    datasets[i] = pd.merge(datasets[i], target, 'left')\n",
    "    \n",
    "datasets[3].head()"
   ]
  },
  {
   "cell_type": "code",
   "execution_count": 38,
   "metadata": {},
   "outputs": [],
   "source": [
    "from sklearn.linear_model import LogisticRegression\n",
    "from sklearn.model_selection import train_test_split\n",
    "from sklearn.metrics import roc_auc_score, precision_recall_curve\n",
    "#import itertools\n",
    "\n",
    "import matplotlib.pyplot as plt\n",
    "\n",
    "%matplotlib inline"
   ]
  },
  {
   "cell_type": "code",
   "execution_count": 39,
   "metadata": {},
   "outputs": [
    {
     "data": {
      "text/html": [
       "<div>\n",
       "<style scoped>\n",
       "    .dataframe tbody tr th:only-of-type {\n",
       "        vertical-align: middle;\n",
       "    }\n",
       "\n",
       "    .dataframe tbody tr th {\n",
       "        vertical-align: top;\n",
       "    }\n",
       "\n",
       "    .dataframe thead th {\n",
       "        text-align: right;\n",
       "    }\n",
       "</style>\n",
       "<table border=\"1\" class=\"dataframe\">\n",
       "  <thead>\n",
       "    <tr style=\"text-align: right;\">\n",
       "      <th></th>\n",
       "      <th>EmbeddingFunction</th>\n",
       "      <th>preds</th>\n",
       "      <th>roc_auc</th>\n",
       "      <th>precision</th>\n",
       "      <th>recall</th>\n",
       "      <th>f_score</th>\n",
       "      <th>thresholds</th>\n",
       "    </tr>\n",
       "  </thead>\n",
       "  <tbody>\n",
       "    <tr>\n",
       "      <th>0</th>\n",
       "      <td>get_user_embedding</td>\n",
       "      <td>[0.025390248727255135, 0.0019879106933679623, ...</td>\n",
       "      <td>0.978713</td>\n",
       "      <td>0.844156</td>\n",
       "      <td>0.795918</td>\n",
       "      <td>0.819328</td>\n",
       "      <td>0.412778</td>\n",
       "    </tr>\n",
       "    <tr>\n",
       "      <th>1</th>\n",
       "      <td>get_user_embedding_median</td>\n",
       "      <td>[0.12029962327511082, 0.0019343842029139735, 0...</td>\n",
       "      <td>0.956139</td>\n",
       "      <td>0.643098</td>\n",
       "      <td>0.779592</td>\n",
       "      <td>0.704797</td>\n",
       "      <td>0.272495</td>\n",
       "    </tr>\n",
       "    <tr>\n",
       "      <th>2</th>\n",
       "      <td>get_user_embedding_max</td>\n",
       "      <td>[0.0072720509514806, 0.0011571713592008, 0.983...</td>\n",
       "      <td>0.953516</td>\n",
       "      <td>0.718631</td>\n",
       "      <td>0.771429</td>\n",
       "      <td>0.744094</td>\n",
       "      <td>0.338160</td>\n",
       "    </tr>\n",
       "    <tr>\n",
       "      <th>3</th>\n",
       "      <td>get_user_embedding_tfidf</td>\n",
       "      <td>[0.031002925568208366, 0.0023684938821562167, ...</td>\n",
       "      <td>0.976375</td>\n",
       "      <td>0.789683</td>\n",
       "      <td>0.812245</td>\n",
       "      <td>0.800805</td>\n",
       "      <td>0.373973</td>\n",
       "    </tr>\n",
       "  </tbody>\n",
       "</table>\n",
       "</div>"
      ],
      "text/plain": [
       "           EmbeddingFunction  \\\n",
       "0         get_user_embedding   \n",
       "1  get_user_embedding_median   \n",
       "2     get_user_embedding_max   \n",
       "3   get_user_embedding_tfidf   \n",
       "\n",
       "                                               preds   roc_auc  precision  \\\n",
       "0  [0.025390248727255135, 0.0019879106933679623, ...  0.978713   0.844156   \n",
       "1  [0.12029962327511082, 0.0019343842029139735, 0...  0.956139   0.643098   \n",
       "2  [0.0072720509514806, 0.0011571713592008, 0.983...  0.953516   0.718631   \n",
       "3  [0.031002925568208366, 0.0023684938821562167, ...  0.976375   0.789683   \n",
       "\n",
       "     recall   f_score  thresholds  \n",
       "0  0.795918  0.819328    0.412778  \n",
       "1  0.779592  0.704797    0.272495  \n",
       "2  0.771429  0.744094    0.338160  \n",
       "3  0.812245  0.800805    0.373973  "
      ]
     },
     "execution_count": 39,
     "metadata": {},
     "output_type": "execute_result"
    }
   ],
   "source": [
    "results = []\n",
    "\n",
    "for index, dataset in enumerate(datasets):\n",
    "    X_train, X_test, y_train, y_test = train_test_split(dataset[['topic_{}'.format(i) for i in range(NUM_TOPICS)]], \n",
    "                                                        dataset['churn'], random_state=0)\n",
    "    \n",
    "    logreg = LogisticRegression()#C=5, class_weight='balanced')\n",
    "    logreg.fit(X_train, y_train)\n",
    "    \n",
    "    preds = logreg.predict_proba(X_test)[:, 1]\n",
    "    \n",
    "    precision, recall, thresholds = precision_recall_curve(y_test, preds)\n",
    "    fscore = (2 * precision * recall) / (precision + recall)\n",
    "    \n",
    "    ix = np.argmax(fscore)\n",
    "    \n",
    "    #best_treshold, best_fscore, best_precision, best_recall = thresholds[ix], fscore[ix], precision[ix], recall[ix]\n",
    "    roc_auc = roc_auc_score(y_test, preds)\n",
    "    \n",
    "    name = func_list[index].__name__\n",
    "    \n",
    "    results.append([name, preds, roc_auc, precision[ix], recall[ix], fscore[ix], thresholds[ix]])\n",
    "    \n",
    "results = pd.DataFrame(results, columns=['EmbeddingFunction', 'preds', 'roc_auc', 'precision', 'recall', 'f_score', 'thresholds'])\n",
    "results"
   ]
  },
  {
   "cell_type": "code",
   "execution_count": 40,
   "metadata": {},
   "outputs": [
    {
     "data": {
      "image/png": "[encoded data removed]",
      "text/plain": [
       "<Figure size 1296x720 with 1 Axes>"
      ]
     },
     "metadata": {
      "needs_background": "light"
     },
     "output_type": "display_data"
    }
   ],
   "source": [
    "import matplotlib.pyplot as plt\n",
    "from sklearn.metrics import roc_curve\n",
    "\n",
    "plt.figure(figsize=(18,10))\n",
    "\n",
    "for i in range(4):\n",
    "    fpr, tpr, _ = roc_curve(y_test,  results.iloc[i]['preds'])\n",
    "    auc = roc_auc_score(y_test, results.iloc[i]['preds'])\n",
    "    plt.plot(fpr, tpr, label = f\"{results.iloc[i]['EmbeddingFunction']} auc={auc}\")\n",
    "             \n",
    "plt.legend(loc=4)\n",
    "plt.show()"
   ]
  },
  {
   "cell_type": "code",
   "execution_count": 41,
   "metadata": {},
   "outputs": [],
   "source": [
    "from catboost import CatBoostClassifier"
   ]
  },
  {
   "cell_type": "code",
   "execution_count": 42,
   "metadata": {},
   "outputs": [
    {
     "data": {
      "text/html": [
       "<div>\n",
       "<style scoped>\n",
       "    .dataframe tbody tr th:only-of-type {\n",
       "        vertical-align: middle;\n",
       "    }\n",
       "\n",
       "    .dataframe tbody tr th {\n",
       "        vertical-align: top;\n",
       "    }\n",
       "\n",
       "    .dataframe thead th {\n",
       "        text-align: right;\n",
       "    }\n",
       "</style>\n",
       "<table border=\"1\" class=\"dataframe\">\n",
       "  <thead>\n",
       "    <tr style=\"text-align: right;\">\n",
       "      <th></th>\n",
       "      <th>EmbeddingFunction</th>\n",
       "      <th>preds</th>\n",
       "      <th>roc_auc</th>\n",
       "      <th>precision</th>\n",
       "      <th>recall</th>\n",
       "      <th>f_score</th>\n",
       "      <th>thresholds</th>\n",
       "    </tr>\n",
       "  </thead>\n",
       "  <tbody>\n",
       "    <tr>\n",
       "      <th>0</th>\n",
       "      <td>get_user_embedding</td>\n",
       "      <td>[0.0006078476492610218, 7.370608239670726e-05,...</td>\n",
       "      <td>0.988544</td>\n",
       "      <td>0.838951</td>\n",
       "      <td>0.914286</td>\n",
       "      <td>0.875000</td>\n",
       "      <td>0.338851</td>\n",
       "    </tr>\n",
       "    <tr>\n",
       "      <th>1</th>\n",
       "      <td>get_user_embedding_median</td>\n",
       "      <td>[0.28935454455205584, 0.0011774888329492408, 0...</td>\n",
       "      <td>0.979192</td>\n",
       "      <td>0.817814</td>\n",
       "      <td>0.824490</td>\n",
       "      <td>0.821138</td>\n",
       "      <td>0.462027</td>\n",
       "    </tr>\n",
       "    <tr>\n",
       "      <th>2</th>\n",
       "      <td>get_user_embedding_max</td>\n",
       "      <td>[0.000685558794552239, 0.00014400340154401513,...</td>\n",
       "      <td>0.983022</td>\n",
       "      <td>0.908257</td>\n",
       "      <td>0.808163</td>\n",
       "      <td>0.855292</td>\n",
       "      <td>0.480886</td>\n",
       "    </tr>\n",
       "    <tr>\n",
       "      <th>3</th>\n",
       "      <td>get_user_embedding_tfidf</td>\n",
       "      <td>[0.00018191243205141494, 4.8851345061928755e-0...</td>\n",
       "      <td>0.988390</td>\n",
       "      <td>0.877551</td>\n",
       "      <td>0.877551</td>\n",
       "      <td>0.877551</td>\n",
       "      <td>0.457926</td>\n",
       "    </tr>\n",
       "  </tbody>\n",
       "</table>\n",
       "</div>"
      ],
      "text/plain": [
       "           EmbeddingFunction  \\\n",
       "0         get_user_embedding   \n",
       "1  get_user_embedding_median   \n",
       "2     get_user_embedding_max   \n",
       "3   get_user_embedding_tfidf   \n",
       "\n",
       "                                               preds   roc_auc  precision  \\\n",
       "0  [0.0006078476492610218, 7.370608239670726e-05,...  0.988544   0.838951   \n",
       "1  [0.28935454455205584, 0.0011774888329492408, 0...  0.979192   0.817814   \n",
       "2  [0.000685558794552239, 0.00014400340154401513,...  0.983022   0.908257   \n",
       "3  [0.00018191243205141494, 4.8851345061928755e-0...  0.988390   0.877551   \n",
       "\n",
       "     recall   f_score  thresholds  \n",
       "0  0.914286  0.875000    0.338851  \n",
       "1  0.824490  0.821138    0.462027  \n",
       "2  0.808163  0.855292    0.480886  \n",
       "3  0.877551  0.877551    0.457926  "
      ]
     },
     "execution_count": 42,
     "metadata": {},
     "output_type": "execute_result"
    }
   ],
   "source": [
    "results = []\n",
    "\n",
    "for index, dataset in enumerate(datasets):\n",
    "    X_train, X_test, y_train, y_test = train_test_split(dataset[['topic_{}'.format(i) for i in range(NUM_TOPICS)]], \n",
    "                                                        dataset['churn'], random_state=0)\n",
    "    \n",
    "    model = CatBoostClassifier(iterations=15000,\n",
    "                           learning_rate=0.004,\n",
    "                           early_stopping_rounds = 150,\n",
    "                           verbose = False,\n",
    "                           custom_metric = ['Logloss', 'AUC'])\n",
    "\n",
    "    model.fit(X_train, y_train, eval_set=(X_test, y_test))\n",
    "    \n",
    "    preds = model.predict_proba(X_test)[:, 1]\n",
    "    \n",
    "    precision, recall, thresholds = precision_recall_curve(y_test, preds)\n",
    "    fscore = (2 * precision * recall) / (precision + recall)\n",
    "    \n",
    "    ix = np.argmax(fscore)\n",
    "    \n",
    "    roc_auc = roc_auc_score(y_test, preds)\n",
    "    \n",
    "    name = func_list[index].__name__\n",
    "    \n",
    "    results.append([name, preds, roc_auc, precision[ix], recall[ix], fscore[ix], thresholds[ix]])\n",
    "    \n",
    "results = pd.DataFrame(results, columns=['EmbeddingFunction', 'preds', 'roc_auc', 'precision', 'recall', 'f_score', 'thresholds'])\n",
    "results"
   ]
  },
  {
   "cell_type": "code",
   "execution_count": 43,
   "metadata": {},
   "outputs": [
    {
     "data": {
      "image/png": "[encoded data removed]",
      "text/plain": [
       "<Figure size 1296x720 with 1 Axes>"
      ]
     },
     "metadata": {
      "needs_background": "light"
     },
     "output_type": "display_data"
    }
   ],
   "source": [
    "plt.figure(figsize=(18,10))\n",
    "\n",
    "for i in range(4):\n",
    "    fpr, tpr, _ = roc_curve(y_test,  results.iloc[i]['preds'])\n",
    "    auc = roc_auc_score(y_test, results.iloc[i]['preds'])\n",
    "    plt.plot(fpr, tpr, label = f\"{results.iloc[i]['EmbeddingFunction']} auc={auc}\")\n",
    "             \n",
    "plt.legend(loc=4)\n",
    "plt.show()"
   ]
  }
 ],
 "metadata": {
  "kernelspec": {
   "display_name": "Python 3",
   "language": "python",
   "name": "python3"
  },
  "language_info": {
   "codemirror_mode": {
    "name": "ipython",
    "version": 3
   },
   "file_extension": ".py",
   "mimetype": "text/x-python",
   "name": "python",
   "nbconvert_exporter": "python",
   "pygments_lexer": "ipython3",
   "version": "3.7.3"
  }
 },
 "nbformat": 4,
 "nbformat_minor": 2
}
