{
 "cells": [
  {
   "cell_type": "code",
   "execution_count": 1,
   "metadata": {},
   "outputs": [],
   "source": [
    "import urllib.request\n",
    "import json      \n",
    "\n",
    "def get_prediction(comment):\n",
    "    body = {'comment': comment} \n",
    "\n",
    "    myurl = \"http://127.0.0.1:5000/predict\"\n",
    "    req = urllib.request.Request(myurl)\n",
    "    req.add_header('Content-Type', 'application/json; charset=utf-8')\n",
    "    jsondata = json.dumps(body)\n",
    "    jsondataasbytes = jsondata.encode('utf-8')   # needs to be bytes\n",
    "    req.add_header('Content-Length', len(jsondataasbytes))\n",
    "    \n",
    "    response = urllib.request.urlopen(req, jsondataasbytes)\n",
    "    return json.loads(response.read())['predictions']"
   ]
  },
  {
   "cell_type": "code",
   "execution_count": 2,
   "metadata": {},
   "outputs": [],
   "source": [
    "import pandas as pd"
   ]
  },
  {
   "cell_type": "code",
   "execution_count": 3,
   "metadata": {},
   "outputs": [],
   "source": [
    "import random"
   ]
  },
  {
   "cell_type": "code",
   "execution_count": 4,
   "metadata": {},
   "outputs": [
    {
     "data": {
      "text/html": [
       "<div>\n",
       "<style scoped>\n",
       "    .dataframe tbody tr th:only-of-type {\n",
       "        vertical-align: middle;\n",
       "    }\n",
       "\n",
       "    .dataframe tbody tr th {\n",
       "        vertical-align: top;\n",
       "    }\n",
       "\n",
       "    .dataframe thead th {\n",
       "        text-align: right;\n",
       "    }\n",
       "</style>\n",
       "<table border=\"1\" class=\"dataframe\">\n",
       "  <thead>\n",
       "    <tr style=\"text-align: right;\">\n",
       "      <th></th>\n",
       "      <th>video_Id</th>\n",
       "      <th>author</th>\n",
       "      <th>comment</th>\n",
       "      <th>likes</th>\n",
       "    </tr>\n",
       "  </thead>\n",
       "  <tbody>\n",
       "    <tr>\n",
       "      <th>0</th>\n",
       "      <td>KLAFzRXVzs4</td>\n",
       "      <td>ЧТО ЗА МЕДУЗА</td>\n",
       "      <td>теперь всегда, когда ем где-то, то трапеза пре...</td>\n",
       "      <td>1534</td>\n",
       "    </tr>\n",
       "    <tr>\n",
       "      <th>1</th>\n",
       "      <td>KLAFzRXVzs4</td>\n",
       "      <td>мама лама</td>\n",
       "      <td>Почему в составе оливье яйца есть, а в самом о...</td>\n",
       "      <td>0</td>\n",
       "    </tr>\n",
       "    <tr>\n",
       "      <th>2</th>\n",
       "      <td>KLAFzRXVzs4</td>\n",
       "      <td>Алексей Митрофанов</td>\n",
       "      <td>Обзор наотъебись, граф Краснов. Всё так лениво...</td>\n",
       "      <td>0</td>\n",
       "    </tr>\n",
       "    <tr>\n",
       "      <th>3</th>\n",
       "      <td>KLAFzRXVzs4</td>\n",
       "      <td>Sergey Ponomarev</td>\n",
       "      <td>Друже зазвездился. Доёбывается для того, чтобы...</td>\n",
       "      <td>0</td>\n",
       "    </tr>\n",
       "    <tr>\n",
       "      <th>4</th>\n",
       "      <td>KLAFzRXVzs4</td>\n",
       "      <td>Александр Осинний</td>\n",
       "      <td>Оставил комент,потом прочитал что люди пишут! ...</td>\n",
       "      <td>0</td>\n",
       "    </tr>\n",
       "  </tbody>\n",
       "</table>\n",
       "</div>"
      ],
      "text/plain": [
       "      video_Id              author  \\\n",
       "0  KLAFzRXVzs4       ЧТО ЗА МЕДУЗА   \n",
       "1  KLAFzRXVzs4           мама лама   \n",
       "2  KLAFzRXVzs4  Алексей Митрофанов   \n",
       "3  KLAFzRXVzs4    Sergey Ponomarev   \n",
       "4  KLAFzRXVzs4   Александр Осинний   \n",
       "\n",
       "                                             comment  likes  \n",
       "0  теперь всегда, когда ем где-то, то трапеза пре...   1534  \n",
       "1  Почему в составе оливье яйца есть, а в самом о...      0  \n",
       "2  Обзор наотъебись, граф Краснов. Всё так лениво...      0  \n",
       "3  Друже зазвездился. Доёбывается для того, чтобы...      0  \n",
       "4  Оставил комент,потом прочитал что люди пишут! ...      0  "
      ]
     },
     "execution_count": 4,
     "metadata": {},
     "output_type": "execute_result"
    }
   ],
   "source": [
    "df = pd.read_csv('oblomoff.csv')\n",
    "df.head()"
   ]
  },
  {
   "cell_type": "code",
   "execution_count": 5,
   "metadata": {},
   "outputs": [],
   "source": [
    "import time"
   ]
  },
  {
   "cell_type": "code",
   "execution_count": 16,
   "metadata": {},
   "outputs": [
    {
     "name": "stdout",
     "output_type": "stream",
     "text": [
      "Обзор на рельсы!!! Ну и лизни шпалы!!!!Во всех городах России без смс)))))\n",
      "0.001150816636550254\n",
      "--------------------------------------------------------------------------------\n",
      "Нихуя ты мажор, блядь, сушинку он съел рожу вытер и больше не хочу этой салфеткой пользоваться, схуив Чи шо?)\n",
      "0.9794847653817931\n",
      "--------------------------------------------------------------------------------\n",
      "Блюдо змейка:\n",
      "Цена: 8 рублей\n",
      "Состав: майонез и 2 крупинки чёрного перца\n",
      "0.00015460882820090665\n",
      "--------------------------------------------------------------------------------\n",
      "Мое любимое - малиновый панкейк!\n",
      "\n",
      "Ингредиенты>\n",
      "\n",
      "мука пшеничная - 2.5 стакана\n",
      "мука (грубого помола) - 2 стакана\n",
      "разрыхлитель - 2.5 ч.л.  \n",
      "соль - 1.25 ч.л.\n",
      "молоко - 1.25 стакана\n",
      "экстракт ванильный - 1 ст.л.\n",
      "масло сливочное - 18 ст.л.\n",
      "сахар - 2.25 стакана\n",
      "яйцо - 6 шт.\n",
      "малина - 340г\n",
      "краситель пищевой (красный) - по вкусу.\n",
      "0.2262335160332582\n",
      "--------------------------------------------------------------------------------\n",
      "а что, тиньков уже не считает блогеров продажными? или снова доказывает это?\n",
      "0.6995394422056936\n",
      "--------------------------------------------------------------------------------\n",
      "Маслицем мазать нужно в конце.а лучше чесночным,и аромат и вид суперрр\n",
      "0.00037182866402371605\n",
      "--------------------------------------------------------------------------------\n",
      "Друже предлагаешь иметь дело с содержантками ? С бестолкушами , которые только ужимки да гримасы могут строить ? Жизнь с карманной дурой быстро надоест , а нормальная девушка и сама за себя может заплатить , только если изначально ужин в ресторане не планировался в качестве подарка , тогда да . Но ужин и девушка может подарить , т.е. полностью оплатить чек . \n",
      " Каждый решает сам кто и что ему нужно , тут нет правильного ответа , это ведь не точная наука .\n",
      "0.0004387055906559149\n",
      "--------------------------------------------------------------------------------\n",
      "В Ростове на Дону уж очень сочные и всегда холодные! Хоть на доставку хоть в заведении!!! Да и не сок из них течёт, а какое-то подсолнечное масло..... При чём не первой свежести....\n",
      "Короче в компании из 7 человек только 2 сказали пойдет, остальным не понравилось...\n",
      "0.00018481035127762606\n",
      "--------------------------------------------------------------------------------\n",
      "какая же вонь будет в душе, после того как там помыли лобстера   фу  бля\n",
      "0.9907938561898215\n",
      "--------------------------------------------------------------------------------\n",
      "Вчера были лобстеры маленькие но за 5 тысяч а эти лангусты большие но за 15\n",
      "0.00027448128598987824\n",
      "--------------------------------------------------------------------------------\n"
     ]
    }
   ],
   "source": [
    "for i in range(10):\n",
    "    tmp = random.choice(df['comment'])\n",
    "    while len(tmp) < 64:\n",
    "        tmp = random.choice(df['comment'])\n",
    "    print(tmp)\n",
    "    print(get_prediction(tmp))\n",
    "    print('-'*80)"
   ]
  },
  {
   "cell_type": "code",
   "execution_count": null,
   "metadata": {},
   "outputs": [],
   "source": []
  }
 ],
 "metadata": {
  "kernelspec": {
   "display_name": "Python 3",
   "language": "python",
   "name": "python3"
  },
  "language_info": {
   "codemirror_mode": {
    "name": "ipython",
    "version": 3
   },
   "file_extension": ".py",
   "mimetype": "text/x-python",
   "name": "python",
   "nbconvert_exporter": "python",
   "pygments_lexer": "ipython3",
   "version": "3.7.3"
  }
 },
 "nbformat": 4,
 "nbformat_minor": 2
}
